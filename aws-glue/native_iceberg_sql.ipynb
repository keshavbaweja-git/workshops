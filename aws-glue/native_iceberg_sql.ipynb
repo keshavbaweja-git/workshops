{
	"metadata": {
		"kernelspec": {
			"display_name": "Glue PySpark",
			"language": "python",
			"name": "glue_pyspark"
		},
		"language_info": {
			"name": "Python_Glue_Session",
			"mimetype": "text/x-python",
			"codemirror_mode": {
				"name": "python",
				"version": 3
			},
			"pygments_lexer": "python3",
			"file_extension": ".py"
		}
	},
	"nbformat_minor": 5,
	"nbformat": 4,
	"cells": [
		{
			"cell_type": "code",
			"source": "%session_id_prefix native-iceberg-sql-\n%glue_version 3.0\n%idle_timeout 60\n%%configure \n{\n  \"--conf\": \"spark.sql.extensions=org.apache.iceberg.spark.extensions.IcebergSparkSessionExtensions\",\n  \"--datalake-formats\": \"iceberg\"\n}",
			"metadata": {
				"trusted": true
			},
			"execution_count": 5,
			"outputs": [
				{
					"name": "stdout",
					"text": "Welcome to the Glue Interactive Sessions Kernel\nFor more information on available magic commands, please type %help in any new cell.\n\nPlease view our Getting Started page to access the most up-to-date information on the Interactive Sessions kernel: https://docs.aws.amazon.com/glue/latest/dg/interactive-sessions.html\nInstalled kernel version: 0.37.0 \nSetting session ID prefix to native-iceberg-sql-\nSetting Glue version to: 3.0\nCurrent idle_timeout is 2880 minutes.\nidle_timeout has been set to 60 minutes.\nThe following configurations have been updated: {'--conf': 'spark.sql.extensions=org.apache.iceberg.spark.extensions.IcebergSparkSessionExtensions', '--datalake-formats': 'iceberg'}\n",
					"output_type": "stream"
				}
			],
			"id": "364cd143-d987-4fda-800e-b5dd0af97a79"
		},
		{
			"cell_type": "code",
			"source": "catalog_name = \"glue_catalog\"\nbucket_name = \"646297494209-singapore-datalake\"\nbucket_prefix = \"iceberg\"\ndatabase_name = \"iceberg_sql\"\ntable_name = \"product\"\nwarehouse_path = f\"s3://{bucket_name}/{bucket_prefix}\"",
			"metadata": {
				"trusted": true
			},
			"execution_count": 1,
			"outputs": [
				{
					"name": "stdout",
					"text": "Authenticating with environment variables and user-defined glue_role_arn: arn:aws:iam::646297494209:role/AWSGlueServiceRoleDefault\nTrying to create a Glue session for the kernel.\nWorker Type: G.1X\nNumber of Workers: 5\nSession ID: f76f51e2-476b-4439-99a8-5ffdcdb52d72\nJob Type: glueetl\nApplying the following default arguments:\n--glue_kernel_version 0.37.0\n--enable-glue-datacatalog true\n--conf spark.sql.extensions=org.apache.iceberg.spark.extensions.IcebergSparkSessionExtensions\n--datalake-formats iceberg\nWaiting for session f76f51e2-476b-4439-99a8-5ffdcdb52d72 to get into ready status...\nSession f76f51e2-476b-4439-99a8-5ffdcdb52d72 has been created.\n\n",
					"output_type": "stream"
				}
			],
			"id": "fc76d99b-caf5-4663-bda0-1771abd8efdf"
		},
		{
			"cell_type": "markdown",
			"source": "## Initialize SparkSession",
			"metadata": {},
			"id": "223f52c4"
		},
		{
			"cell_type": "code",
			"source": "from pyspark.sql import SparkSession\nspark = SparkSession.builder \\\n    .config(\"spark.sql.warehouse.dir\", warehouse_path) \\\n    .config(f\"spark.sql.catalog.{catalog_name}\", \"org.apache.iceberg.spark.SparkCatalog\") \\\n    .config(f\"spark.sql.catalog.{catalog_name}.warehouse\", warehouse_path) \\\n    .config(f\"spark.sql.catalog.{catalog_name}.catalog-impl\", \"org.apache.iceberg.aws.glue.GlueCatalog\") \\\n    .config(f\"spark.sql.catalog.{catalog_name}.io-impl\", \"org.apache.iceberg.aws.s3.S3FileIO\") \\\n    .config(\"spark.sql.extensions\", \"org.apache.iceberg.spark.extensions.IcebergSparkSessionExtensions\") \\\n    .getOrCreate()",
			"metadata": {
				"trusted": true
			},
			"execution_count": 2,
			"outputs": [
				{
					"name": "stdout",
					"text": "\n",
					"output_type": "stream"
				}
			],
			"id": "07d9de08-c473-4591-bd5a-ae7106d9addc"
		},
		{
			"cell_type": "markdown",
			"source": "## Clean up existing resources",
			"metadata": {},
			"id": "19d274a4-1610-43a6-a574-b18894a2f73b"
		},
		{
			"cell_type": "code",
			"source": "query = f\"\"\"\nDROP TABLE IF EXISTS {catalog_name}.{database_name}.{table_name}\n\"\"\"\nspark.sql(query)",
			"metadata": {
				"trusted": true
			},
			"execution_count": 3,
			"outputs": [
				{
					"name": "stdout",
					"text": "DataFrame[]\n",
					"output_type": "stream"
				}
			],
			"id": "3e8254c1-b5d6-4b03-92b3-ceffd90edd79"
		},
		{
			"cell_type": "markdown",
			"source": "## Create Iceberg table with sample data",
			"metadata": {},
			"id": "5078b110-be78-43fe-8ffe-93cd013c7b0c"
		},
		{
			"cell_type": "code",
			"source": "from pyspark.sql import Row\nimport time\n\nut = time.time()\n\nproduct = [\n    {'product_id': '00001', 'product_name': 'Heater', 'price': 250, 'category': 'Electronics', 'updated_at': ut},\n    {'product_id': '00002', 'product_name': 'Thermostat', 'price': 400, 'category': 'Electronics', 'updated_at': ut},\n    {'product_id': '00003', 'product_name': 'Television', 'price': 600, 'category': 'Electronics', 'updated_at': ut},\n    {'product_id': '00004', 'product_name': 'Blender', 'price': 100, 'category': 'Electronics', 'updated_at': ut},\n    {'product_id': '00005', 'product_name': 'USB charger', 'price': 50, 'category': 'Electronics', 'updated_at': ut}\n]\n\ndf_products = spark.createDataFrame(Row(**x) for x in product)",
			"metadata": {
				"trusted": true
			},
			"execution_count": 4,
			"outputs": [
				{
					"name": "stdout",
					"text": "\n",
					"output_type": "stream"
				}
			],
			"id": "fba92930-daf3-4b20-ae73-25b0b6c82d90"
		},
		{
			"cell_type": "code",
			"source": "df_products.createOrReplaceTempView(f\"tmp_{table_name}\")",
			"metadata": {
				"trusted": true
			},
			"execution_count": 5,
			"outputs": [
				{
					"name": "stdout",
					"text": "\n",
					"output_type": "stream"
				}
			],
			"id": "cb9bf071-a9f9-4a26-a362-f2b6250a6c82"
		},
		{
			"cell_type": "code",
			"source": "query = f\"\"\"\nCREATE DATABASE IF NOT EXISTS {database_name}\n\"\"\"\nspark.sql(query)",
			"metadata": {
				"trusted": true
			},
			"execution_count": 6,
			"outputs": [
				{
					"name": "stdout",
					"text": "DataFrame[]\n",
					"output_type": "stream"
				}
			],
			"id": "aa310535"
		},
		{
			"cell_type": "code",
			"source": "query = f\"\"\"\nCREATE TABLE {catalog_name}.{database_name}.{table_name}\nUSING iceberg\nAS SELECT * FROM tmp_{table_name}\n\"\"\"\nspark.sql(query)",
			"metadata": {
				"trusted": true
			},
			"execution_count": 7,
			"outputs": [
				{
					"name": "stdout",
					"text": "DataFrame[]\n",
					"output_type": "stream"
				}
			],
			"id": "a07c0a18-c73c-4393-ac79-427e4eef21c9"
		},
		{
			"cell_type": "code",
			"source": "%%sql\nUSE iceberg_sql",
			"metadata": {
				"trusted": true
			},
			"execution_count": 8,
			"outputs": [
				{
					"name": "stdout",
					"text": "++\n||\n++\n++\n",
					"output_type": "stream"
				}
			],
			"id": "faee90d6-46c8-409a-8baa-bd20aa6e444d"
		},
		{
			"cell_type": "code",
			"source": "%%sql\nSHOW TABLES",
			"metadata": {
				"trusted": true
			},
			"execution_count": 9,
			"outputs": [
				{
					"name": "stdout",
					"text": "+-----------+-----------+-----------+\n|   database|  tableName|isTemporary|\n+-----------+-----------+-----------+\n|iceberg_sql|    product|      false|\n|           |tmp_product|       true|\n+-----------+-----------+-----------+\n",
					"output_type": "stream"
				}
			],
			"id": "1fdcedac"
		},
		{
			"cell_type": "markdown",
			"source": "## Read from Iceberg table",
			"metadata": {},
			"id": "48d42e63-fc96-4047-96fb-ad388f16a8bb"
		},
		{
			"cell_type": "code",
			"source": "%%sql\nSELECT * FROM glue_catalog.iceberg_sql.product",
			"metadata": {
				"trusted": true
			},
			"execution_count": 10,
			"outputs": [
				{
					"name": "stdout",
					"text": "+----------+------------+-----+-----------+-------------------+\n|product_id|product_name|price|   category|         updated_at|\n+----------+------------+-----+-----------+-------------------+\n|     00001|      Heater|  250|Electronics|1.675401749026384E9|\n|     00002|  Thermostat|  400|Electronics|1.675401749026384E9|\n|     00003|  Television|  600|Electronics|1.675401749026384E9|\n|     00004|     Blender|  100|Electronics|1.675401749026384E9|\n|     00005| USB charger|   50|Electronics|1.675401749026384E9|\n+----------+------------+-----+-----------+-------------------+\n",
					"output_type": "stream"
				}
			],
			"id": "a3f30f34-b750-4b65-b002-f342efe910de"
		},
		{
			"cell_type": "markdown",
			"source": "## Upsert records into Iceberg table",
			"metadata": {},
			"id": "edc9062b-d134-4e78-879e-d9c51e85fdad"
		},
		{
			"cell_type": "code",
			"source": "ut = time.time()\n\nproduct_updates = [\n    {'product_id': '00001', 'product_name': 'Heater', 'price': 400, 'category': 'Electronics', 'updated_at': ut}, # Update\n    {'product_id': '00006', 'product_name': 'Chair', 'price': 50, 'category': 'Furniture', 'updated_at': ut} # Insert\n]\ndf_product_updates = spark.createDataFrame(Row(**x) for x in product_updates)",
			"metadata": {
				"trusted": true
			},
			"execution_count": 11,
			"outputs": [
				{
					"name": "stdout",
					"text": "\n",
					"output_type": "stream"
				}
			],
			"id": "92624355-7e93-4c65-950c-3d0ccd0110b6"
		},
		{
			"cell_type": "code",
			"source": "df_product_updates.createOrReplaceTempView(f\"tmp_{table_name}_updates\")",
			"metadata": {
				"trusted": true
			},
			"execution_count": 12,
			"outputs": [
				{
					"name": "stdout",
					"text": "\n",
					"output_type": "stream"
				}
			],
			"id": "06524e63-1ca4-4e91-8b48-4165e5bdca8b"
		},
		{
			"cell_type": "code",
			"source": "query = f\"\"\"\nMERGE INTO {catalog_name}.{database_name}.{table_name} AS t\nUSING (SELECT * FROM tmp_{table_name}_updates) AS u\nON t.product_id = u.product_id\nWHEN MATCHED THEN UPDATE SET t.updated_at = u.updated_at\nWHEN NOT MATCHED THEN INSERT *\n\"\"\"\nspark.sql(query)",
			"metadata": {
				"trusted": true
			},
			"execution_count": 13,
			"outputs": [
				{
					"name": "stdout",
					"text": "DataFrame[]\n",
					"output_type": "stream"
				}
			],
			"id": "38a4e5b9-49b1-4b7c-9388-cb13f33c62c3"
		},
		{
			"cell_type": "code",
			"source": "%%sql\nSELECT * FROM glue_catalog.iceberg_sql.product",
			"metadata": {
				"trusted": true
			},
			"execution_count": 14,
			"outputs": [
				{
					"name": "stdout",
					"text": "+----------+------------+-----+-----------+--------------------+\n|product_id|product_name|price|   category|          updated_at|\n+----------+------------+-----+-----------+--------------------+\n|     00002|  Thermostat|  400|Electronics| 1.675401749026384E9|\n|     00003|  Television|  600|Electronics| 1.675401749026384E9|\n|     00004|     Blender|  100|Electronics| 1.675401749026384E9|\n|     00005| USB charger|   50|Electronics| 1.675401749026384E9|\n|     00001|      Heater|  250|Electronics|1.6754018299467256E9|\n|     00006|       Chair|   50|  Furniture|1.6754018299467256E9|\n+----------+------------+-----+-----------+--------------------+\n",
					"output_type": "stream"
				}
			],
			"id": "d62c4865-125f-4619-9f58-d2ec4bd4b562"
		},
		{
			"cell_type": "markdown",
			"source": "## Delete records",
			"metadata": {},
			"id": "9e209781"
		},
		{
			"cell_type": "code",
			"source": "%%sql\nDELETE FROM glue_catalog.iceberg_sql.product WHERE product_name = 'Blender'",
			"metadata": {
				"trusted": true
			},
			"execution_count": 20,
			"outputs": [
				{
					"name": "stdout",
					"text": "++\n||\n++\n++\n",
					"output_type": "stream"
				}
			],
			"id": "ea9793ea"
		},
		{
			"cell_type": "code",
			"source": "%%sql\nSELECT * FROM glue_catalog.iceberg_sql.product",
			"metadata": {
				"trusted": true
			},
			"execution_count": 21,
			"outputs": [
				{
					"name": "stdout",
					"text": "+----------+------------+-----+-----------+--------------------+\n|product_id|product_name|price|   category|          updated_at|\n+----------+------------+-----+-----------+--------------------+\n|     00002|  Thermostat|  400|Electronics| 1.675401749026384E9|\n|     00003|  Television|  600|Electronics| 1.675401749026384E9|\n|     00005| USB charger|   50|Electronics| 1.675401749026384E9|\n|     00001|      Heater|  250|Electronics|1.6754018299467256E9|\n|     00006|       Chair|   50|  Furniture|1.6754018299467256E9|\n+----------+------------+-----+-----------+--------------------+\n",
					"output_type": "stream"
				}
			],
			"id": "214029da"
		},
		{
			"cell_type": "markdown",
			"source": "## View History and Snapshots",
			"metadata": {},
			"id": "c546f7e4"
		},
		{
			"cell_type": "code",
			"source": "%%sql\nSELECT * FROM glue_catalog.iceberg_sql.product.history",
			"metadata": {
				"trusted": true
			},
			"execution_count": 22,
			"outputs": [
				{
					"name": "stdout",
					"text": "+--------------------+-------------------+-------------------+-------------------+\n|     made_current_at|        snapshot_id|          parent_id|is_current_ancestor|\n+--------------------+-------------------+-------------------+-------------------+\n|2023-02-03 05:23:...|2227512522147639299|               null|               true|\n|2023-02-03 05:24:...|8151186603465942035|2227512522147639299|               true|\n|2023-02-03 05:29:...| 720355281947583927|8151186603465942035|               true|\n+--------------------+-------------------+-------------------+-------------------+\n",
					"output_type": "stream"
				}
			],
			"id": "15a368b3"
		},
		{
			"cell_type": "code",
			"source": "%%sql\nSELECT * FROM glue_catalog.iceberg_sql.product.snapshots",
			"metadata": {
				"trusted": true
			},
			"execution_count": 23,
			"outputs": [
				{
					"name": "stdout",
					"text": "+--------------------+-------------------+-------------------+---------+--------------------+--------------------+\n|        committed_at|        snapshot_id|          parent_id|operation|       manifest_list|             summary|\n+--------------------+-------------------+-------------------+---------+--------------------+--------------------+\n|2023-02-03 05:23:...|2227512522147639299|               null|   append|s3://646297494209...|{spark.app.id -> ...|\n|2023-02-03 05:24:...|8151186603465942035|2227512522147639299|overwrite|s3://646297494209...|{spark.app.id -> ...|\n|2023-02-03 05:29:...| 720355281947583927|8151186603465942035|overwrite|s3://646297494209...|{spark.app.id -> ...|\n+--------------------+-------------------+-------------------+---------+--------------------+--------------------+\n",
					"output_type": "stream"
				}
			],
			"id": "83b9e822"
		},
		{
			"cell_type": "code",
			"source": "%%sql\nSELECT h.made_current_at, s.operation, h.snapshot_id, h.is_current_ancestor, s.summary[\"spark.app.id\"] FROM glue_catalog.iceberg_sql.product.history h JOIN glue_catalog.iceberg_sql.product.snapshots s  ON h.snapshot_id = s.snapshot_id ORDER BY made_current_at",
			"metadata": {
				"trusted": true
			},
			"execution_count": 24,
			"outputs": [
				{
					"name": "stdout",
					"text": "+--------------------+---------+-------------------+-------------------+---------------------+\n|     made_current_at|operation|        snapshot_id|is_current_ancestor|summary[spark.app.id]|\n+--------------------+---------+-------------------+-------------------+---------------------+\n|2023-02-03 05:23:...|   append|2227512522147639299|               true| spark-application...|\n|2023-02-03 05:24:...|overwrite|8151186603465942035|               true| spark-application...|\n|2023-02-03 05:29:...|overwrite| 720355281947583927|               true| spark-application...|\n+--------------------+---------+-------------------+-------------------+---------------------+\n",
					"output_type": "stream"
				}
			],
			"id": "82c05698"
		},
		{
			"cell_type": "markdown",
			"source": "## Stop Session",
			"metadata": {},
			"id": "98770309"
		},
		{
			"cell_type": "code",
			"source": "%stop_session",
			"metadata": {},
			"execution_count": null,
			"outputs": [],
			"id": "53ccca8e-1692-4da6-af55-9ab52d6fbc08"
		}
	]
}