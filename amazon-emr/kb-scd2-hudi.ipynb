{
 "cells": [
  {
   "cell_type": "code",
   "execution_count": 1,
   "id": "a115c9d7-093a-4ca7-b332-998cf2cfb3aa",
   "metadata": {
    "execution": {
     "iopub.execute_input": "2022-10-29T11:43:27.379352Z",
     "iopub.status.busy": "2022-10-29T11:43:27.379145Z",
     "iopub.status.idle": "2022-10-29T11:43:27.392192Z",
     "shell.execute_reply": "2022-10-29T11:43:27.391779Z",
     "shell.execute_reply.started": "2022-10-29T11:43:27.379331Z"
    },
    "tags": []
   },
   "outputs": [
    {
     "data": {
      "text/html": [
       "Current session configs: <tt>{'conf': {'spark.jars': 'hdfs:///apps/hudi/lib/hudi-spark-bundle.jar,hdfs:///apps/hudi/lib/spark-avro.jar', 'spark.serializer': 'org.apache.spark.serializer.KryoSerializer', 'spark.sql.hive.convertMetastoreParquet': 'false'}, 'proxyUser': 'user_admin1', 'kind': 'pyspark'}</tt><br>"
      ],
      "text/plain": [
       "<IPython.core.display.HTML object>"
      ]
     },
     "metadata": {},
     "output_type": "display_data"
    },
    {
     "data": {
      "text/html": [
       "No active sessions."
      ],
      "text/plain": [
       "<IPython.core.display.HTML object>"
      ]
     },
     "metadata": {},
     "output_type": "display_data"
    }
   ],
   "source": [
    "%%configure -f\n",
    "{\n",
    "    \"conf\": {\n",
    "        \"spark.jars\": \"hdfs:///apps/hudi/lib/hudi-spark-bundle.jar,hdfs:///apps/hudi/lib/spark-avro.jar\",\n",
    "        \"spark.serializer\": \"org.apache.spark.serializer.KryoSerializer\",\n",
    "        \"spark.sql.hive.convertMetastoreParquet\": \"false\"\n",
    "    }\n",
    "}"
   ]
  },
  {
   "cell_type": "code",
   "execution_count": 2,
   "id": "772173e7-8254-4f6c-b413-c3d84843bb81",
   "metadata": {
    "execution": {
     "iopub.execute_input": "2022-10-29T11:43:27.407576Z",
     "iopub.status.busy": "2022-10-29T11:43:27.407433Z",
     "iopub.status.idle": "2022-10-29T11:43:45.448983Z",
     "shell.execute_reply": "2022-10-29T11:43:45.448529Z",
     "shell.execute_reply.started": "2022-10-29T11:43:27.407558Z"
    },
    "tags": []
   },
   "outputs": [
    {
     "data": {
      "application/vnd.jupyter.widget-view+json": {
       "model_id": "cdeb14bfa1754489b4cb006db903ab73",
       "version_major": 2,
       "version_minor": 0
      },
      "text/plain": [
       "VBox()"
      ]
     },
     "metadata": {},
     "output_type": "display_data"
    },
    {
     "name": "stdout",
     "output_type": "stream",
     "text": [
      "Starting Spark application\n"
     ]
    },
    {
     "data": {
      "text/html": [
       "<table>\n",
       "<tr><th>ID</th><th>YARN Application ID</th><th>Kind</th><th>State</th><th>Spark UI</th><th>Driver log</th><th>Current session?</th></tr><tr><td>6</td><td>application_1666706558378_0008</td><td>pyspark</td><td>idle</td><td><a target=\"_blank\" href=\"http://ip-172-31-14-203.ec2.internal:20888/proxy/application_1666706558378_0008/\" class=\"emr-proxy-link\" emr-resource=\"j-2H0BRKYNA0YSO\n",
       "\" application-id=\"application_1666706558378_0008\">Link</a></td><td><a target=\"_blank\" href=\"http://ip-172-31-9-49.ec2.internal:8042/node/containerlogs/container_1666706558378_0008_01_000001/livy\" >Link</a></td><td>✔</td></tr></table>"
      ],
      "text/plain": [
       "<IPython.core.display.HTML object>"
      ]
     },
     "metadata": {},
     "output_type": "display_data"
    },
    {
     "data": {
      "application/vnd.jupyter.widget-view+json": {
       "model_id": "",
       "version_major": 2,
       "version_minor": 0
      },
      "text/plain": [
       "FloatProgress(value=0.0, bar_style='info', description='Progress:', layout=Layout(height='25px', width='50%'),…"
      ]
     },
     "metadata": {},
     "output_type": "display_data"
    },
    {
     "name": "stdout",
     "output_type": "stream",
     "text": [
      "SparkSession available as 'spark'.\n"
     ]
    },
    {
     "data": {
      "application/vnd.jupyter.widget-view+json": {
       "model_id": "",
       "version_major": 2,
       "version_minor": 0
      },
      "text/plain": [
       "FloatProgress(value=0.0, bar_style='info', description='Progress:', layout=Layout(height='25px', width='50%'),…"
      ]
     },
     "metadata": {},
     "output_type": "display_data"
    }
   ],
   "source": [
    "from pyspark.sql.types import (StringType, StructField, StructType, IntegerType,\n",
    "                               DoubleType, DateType, BooleanType, TimestampType)"
   ]
  },
  {
   "cell_type": "markdown",
   "id": "71f60aed-12e4-4c2e-90b1-a06fa62f4712",
   "metadata": {},
   "source": [
    "## Define Customer schema"
   ]
  },
  {
   "cell_type": "code",
   "execution_count": 3,
   "id": "de77ab23-1d19-4363-9666-4990d8a7ef03",
   "metadata": {
    "execution": {
     "iopub.execute_input": "2022-10-29T11:43:45.450235Z",
     "iopub.status.busy": "2022-10-29T11:43:45.450015Z",
     "iopub.status.idle": "2022-10-29T11:43:45.493268Z",
     "shell.execute_reply": "2022-10-29T11:43:45.492848Z",
     "shell.execute_reply.started": "2022-10-29T11:43:45.450205Z"
    },
    "tags": []
   },
   "outputs": [
    {
     "data": {
      "application/vnd.jupyter.widget-view+json": {
       "model_id": "86f2a1a8592f447bab052064d0f74494",
       "version_major": 2,
       "version_minor": 0
      },
      "text/plain": [
       "VBox()"
      ]
     },
     "metadata": {},
     "output_type": "display_data"
    },
    {
     "data": {
      "application/vnd.jupyter.widget-view+json": {
       "model_id": "",
       "version_major": 2,
       "version_minor": 0
      },
      "text/plain": [
       "FloatProgress(value=0.0, bar_style='info', description='Progress:', layout=Layout(height='25px', width='50%'),…"
      ]
     },
     "metadata": {},
     "output_type": "display_data"
    }
   ],
   "source": [
    "customer_schema = StructType([\n",
    "    StructField('customer_id', StringType(), False),\n",
    "    StructField('first_name', StringType(), True),\n",
    "    StructField('last_name', StringType(), True),\n",
    "    StructField('city', StringType(), True),\n",
    "    StructField('country', StringType(), True),\n",
    "    StructField('eff_start_date', DateType(), True),\n",
    "    StructField('eff_end_date', DateType(), True),\n",
    "    StructField('timestamp', TimestampType(), True),\n",
    "    StructField('is_current', BooleanType(), True),\n",
    "])"
   ]
  },
  {
   "cell_type": "markdown",
   "id": "f7947fcf-8aee-4eda-bf43-973447ba178c",
   "metadata": {},
   "source": [
    "## Create Customer records"
   ]
  },
  {
   "cell_type": "code",
   "execution_count": 4,
   "id": "e11f62f5-ce9b-45e4-b8c0-9c028ffbfb77",
   "metadata": {
    "execution": {
     "iopub.execute_input": "2022-10-29T11:43:45.494322Z",
     "iopub.status.busy": "2022-10-29T11:43:45.494180Z",
     "iopub.status.idle": "2022-10-29T11:43:45.738187Z",
     "shell.execute_reply": "2022-10-29T11:43:45.737649Z",
     "shell.execute_reply.started": "2022-10-29T11:43:45.494303Z"
    },
    "tags": []
   },
   "outputs": [
    {
     "data": {
      "application/vnd.jupyter.widget-view+json": {
       "model_id": "bd1eba304a0b45e59d5d0bbbed5a9009",
       "version_major": 2,
       "version_minor": 0
      },
      "text/plain": [
       "VBox()"
      ]
     },
     "metadata": {},
     "output_type": "display_data"
    },
    {
     "data": {
      "application/vnd.jupyter.widget-view+json": {
       "model_id": "",
       "version_major": 2,
       "version_minor": 0
      },
      "text/plain": [
       "FloatProgress(value=0.0, bar_style='info', description='Progress:', layout=Layout(height='25px', width='50%'),…"
      ]
     },
     "metadata": {},
     "output_type": "display_data"
    }
   ],
   "source": [
    "from pyspark.sql.functions import udf\n",
    "import time\n",
    "\n",
    "random_udf = udf(lambda: str(int(time.time() * 1000000)), StringType())"
   ]
  },
  {
   "cell_type": "code",
   "execution_count": 5,
   "id": "653187c6-a2a0-43c2-8d89-bcf8efdcff5b",
   "metadata": {
    "execution": {
     "iopub.execute_input": "2022-10-29T11:43:45.739417Z",
     "iopub.status.busy": "2022-10-29T11:43:45.739194Z",
     "iopub.status.idle": "2022-10-29T11:43:57.033702Z",
     "shell.execute_reply": "2022-10-29T11:43:57.033165Z",
     "shell.execute_reply.started": "2022-10-29T11:43:45.739386Z"
    },
    "tags": []
   },
   "outputs": [
    {
     "data": {
      "application/vnd.jupyter.widget-view+json": {
       "model_id": "42986e076790417dbceb770f6ff5c6b3",
       "version_major": 2,
       "version_minor": 0
      },
      "text/plain": [
       "VBox()"
      ]
     },
     "metadata": {},
     "output_type": "display_data"
    },
    {
     "data": {
      "application/vnd.jupyter.widget-view+json": {
       "model_id": "",
       "version_major": 2,
       "version_minor": 0
      },
      "text/plain": [
       "FloatProgress(value=0.0, bar_style='info', description='Progress:', layout=Layout(height='25px', width='50%'),…"
      ]
     },
     "metadata": {},
     "output_type": "display_data"
    },
    {
     "name": "stdout",
     "output_type": "stream",
     "text": [
      "+-----------+----------+---------+-------+-------+--------------+------------+-------------------+----------+----------------+\n",
      "|customer_id|first_name|last_name|city   |country|eff_start_date|eff_end_date|timestamp          |is_current|customer_sk     |\n",
      "+-----------+----------+---------+-------+-------+--------------+------------+-------------------+----------+----------------+\n",
      "|1          |John      |Smith    |London |UK     |2020-09-27    |2999-12-31  |2020-12-08 09:15:32|true      |1667043835275598|\n",
      "|2          |Susan     |Chas     |Seattle|US     |2020-10-14    |2999-12-31  |2020-12-08 09:15:32|true      |1667043836100448|\n",
      "+-----------+----------+---------+-------+-------+--------------+------------+-------------------+----------+----------------+"
     ]
    }
   ],
   "source": [
    "from datetime import datetime\n",
    "\n",
    "customer_df = spark.createDataFrame(\n",
    "    [('1', 'John', 'Smith', 'London', 'UK',\n",
    "      datetime.strptime('2020-09-27', '%Y-%m-%d'),\n",
    "      datetime.strptime('2999-12-31', '%Y-%m-%d'),\n",
    "      datetime.strptime('2020-12-08 09:15:32', '%Y-%m-%d %H:%M:%S'), True),\n",
    "     ('2', 'Susan', 'Chas', 'Seattle', 'US',\n",
    "      datetime.strptime('2020-10-14', '%Y-%m-%d'),\n",
    "      datetime.strptime('2999-12-31', '%Y-%m-%d'),\n",
    "      datetime.strptime('2020-12-08 09:15:32', '%Y-%m-%d %H:%M:%S'), True)],\n",
    "    customer_schema)\n",
    "\n",
    "customer_sk_df = customer_df.withColumn(\"customer_sk\", random_udf())\n",
    "customer_sk_df.cache()\n",
    "customer_sk_df.show(5, False)"
   ]
  },
  {
   "cell_type": "code",
   "execution_count": 6,
   "id": "0b1fbf55-f366-4d2f-b1f2-109d83a46eec",
   "metadata": {
    "execution": {
     "iopub.execute_input": "2022-10-29T11:43:57.034656Z",
     "iopub.status.busy": "2022-10-29T11:43:57.034498Z",
     "iopub.status.idle": "2022-10-29T11:43:57.073925Z",
     "shell.execute_reply": "2022-10-29T11:43:57.073499Z",
     "shell.execute_reply.started": "2022-10-29T11:43:57.034636Z"
    },
    "tags": []
   },
   "outputs": [
    {
     "data": {
      "application/vnd.jupyter.widget-view+json": {
       "model_id": "020144582aba418f86bf784fbdabf227",
       "version_major": 2,
       "version_minor": 0
      },
      "text/plain": [
       "VBox()"
      ]
     },
     "metadata": {},
     "output_type": "display_data"
    },
    {
     "data": {
      "application/vnd.jupyter.widget-view+json": {
       "model_id": "",
       "version_major": 2,
       "version_minor": 0
      },
      "text/plain": [
       "FloatProgress(value=0.0, bar_style='info', description='Progress:', layout=Layout(height='25px', width='50%'),…"
      ]
     },
     "metadata": {},
     "output_type": "display_data"
    }
   ],
   "source": [
    "S3_BUCKET_NAME = \"646297494209-us-east-1-modern-data-lake-storage\""
   ]
  },
  {
   "cell_type": "code",
   "execution_count": 7,
   "id": "eee5cd29-fbda-4337-ba1c-6f844c563027",
   "metadata": {
    "execution": {
     "iopub.execute_input": "2022-10-29T11:44:44.431644Z",
     "iopub.status.busy": "2022-10-29T11:44:44.431435Z",
     "iopub.status.idle": "2022-10-29T11:45:01.728561Z",
     "shell.execute_reply": "2022-10-29T11:45:01.728097Z",
     "shell.execute_reply.started": "2022-10-29T11:44:44.431622Z"
    },
    "tags": []
   },
   "outputs": [
    {
     "data": {
      "application/vnd.jupyter.widget-view+json": {
       "model_id": "56a95792440d4755b9222b3423344009",
       "version_major": 2,
       "version_minor": 0
      },
      "text/plain": [
       "VBox()"
      ]
     },
     "metadata": {},
     "output_type": "display_data"
    },
    {
     "data": {
      "application/vnd.jupyter.widget-view+json": {
       "model_id": "",
       "version_major": 2,
       "version_minor": 0
      },
      "text/plain": [
       "FloatProgress(value=0.0, bar_style='info', description='Progress:', layout=Layout(height='25px', width='50%'),…"
      ]
     },
     "metadata": {},
     "output_type": "display_data"
    }
   ],
   "source": [
    "customers_table_path = f\"s3://{S3_BUCKET_NAME}/customers\"\n",
    "customers_table_name = 'customers_table'\n",
    "record_key = \"customer_sk\"\n",
    "partition_key = \"country\"\n",
    "\n",
    "hudi_options = {\n",
    "    'hoodie.insert.shuffle.parallelism': '2',\n",
    "    'hoodie.upsert.shuffle.parallelism': '2',\n",
    "    'hoodie.delete.shuffle.parallelism': '2',\n",
    "    'hoodie.bulkinsert.shuffle.parallelism': '2',\n",
    "    'hoodie.datasource.hive_sync.enable': 'false',\n",
    "    'hoodie.datasource.hive_sync.assume_date_partitioning': 'true'\n",
    "}\n",
    "\n",
    "customer_sk_df.write.format('org.apache.hudi')\\\n",
    "                             .options(**hudi_options)\\\n",
    "                             .option('hoodie.table.name',customers_table_name)\\\n",
    "                             .option('hoodie.datasource.write.recordkey.field',record_key)\\\n",
    "                             .option('hoodie.datasource.write.partitionpath.field',partition_key)\\\n",
    "                             .option('hoodie.datasource.write.precombine.field','timestamp')\\\n",
    "                             .option('hoodie.datasource.write.operation','insert')\\\n",
    "                             .option('hoodie.datasource.hive_sync.table',customers_table_name)\\\n",
    "                             .mode('Overwrite')\\\n",
    "                             .save(customers_table_path)"
   ]
  },
  {
   "cell_type": "code",
   "execution_count": 10,
   "id": "4f886a5c-405e-4233-b90e-11bf26a95ade",
   "metadata": {
    "execution": {
     "iopub.execute_input": "2022-10-29T11:47:47.341552Z",
     "iopub.status.busy": "2022-10-29T11:47:47.341350Z",
     "iopub.status.idle": "2022-10-29T11:47:54.610311Z",
     "shell.execute_reply": "2022-10-29T11:47:54.609867Z",
     "shell.execute_reply.started": "2022-10-29T11:47:47.341530Z"
    },
    "tags": []
   },
   "outputs": [
    {
     "data": {
      "application/vnd.jupyter.widget-view+json": {
       "model_id": "8bc9b61652cd44bf86866be807636e8c",
       "version_major": 2,
       "version_minor": 0
      },
      "text/plain": [
       "VBox()"
      ]
     },
     "metadata": {},
     "output_type": "display_data"
    },
    {
     "data": {
      "application/vnd.jupyter.widget-view+json": {
       "model_id": "",
       "version_major": 2,
       "version_minor": 0
      },
      "text/plain": [
       "FloatProgress(value=0.0, bar_style='info', description='Progress:', layout=Layout(height='25px', width='50%'),…"
      ]
     },
     "metadata": {},
     "output_type": "display_data"
    },
    {
     "name": "stdout",
     "output_type": "stream",
     "text": [
      "+-----------+----------+---------+-------+-------+--------------+------------+----------------+----------+\n",
      "|customer_id|first_name|last_name|city   |country|eff_start_date|eff_end_date|customer_sk     |is_current|\n",
      "+-----------+----------+---------+-------+-------+--------------+------------+----------------+----------+\n",
      "|2          |Susan     |Chas     |Seattle|US     |2020-10-14    |2999-12-31  |1667043836100448|true      |\n",
      "|1          |John      |Smith    |London |UK     |2020-09-27    |2999-12-31  |1667043835275598|true      |\n",
      "+-----------+----------+---------+-------+-------+--------------+------------+----------------+----------+"
     ]
    }
   ],
   "source": [
    "customer_sk_df = spark. \\\n",
    "  read. \\\n",
    "  format(\"hudi\"). \\\n",
    "  load(customers_table_path)\n",
    "\n",
    "customer_sk_df.createOrReplaceTempView(customers_table_name)\n",
    "\n",
    "spark.sql('select customer_id,'\n",
    "          'first_name, '\n",
    "          'last_name, '\n",
    "          'city, '\n",
    "          'country, '\n",
    "          'eff_start_date, '\n",
    "          'eff_end_date, '\n",
    "          'customer_sk, '\n",
    "          'is_current '\n",
    "          'from ' + customers_table_name).show(3, False)"
   ]
  },
  {
   "cell_type": "markdown",
   "id": "783ab41c-c80a-4146-9fa4-8db8a9765896",
   "metadata": {},
   "source": [
    "## Define Sales schema, create Sales records"
   ]
  },
  {
   "cell_type": "code",
   "execution_count": 11,
   "id": "de13a7ce-697c-46a2-a8ab-5a7229f3510e",
   "metadata": {
    "execution": {
     "iopub.execute_input": "2022-10-29T11:48:03.791476Z",
     "iopub.status.busy": "2022-10-29T11:48:03.791271Z",
     "iopub.status.idle": "2022-10-29T11:48:05.043990Z",
     "shell.execute_reply": "2022-10-29T11:48:05.043533Z",
     "shell.execute_reply.started": "2022-10-29T11:48:03.791453Z"
    },
    "tags": []
   },
   "outputs": [
    {
     "data": {
      "application/vnd.jupyter.widget-view+json": {
       "model_id": "a753d22d46934dada3388e58fa019135",
       "version_major": 2,
       "version_minor": 0
      },
      "text/plain": [
       "VBox()"
      ]
     },
     "metadata": {},
     "output_type": "display_data"
    },
    {
     "data": {
      "application/vnd.jupyter.widget-view+json": {
       "model_id": "",
       "version_major": 2,
       "version_minor": 0
      },
      "text/plain": [
       "FloatProgress(value=0.0, bar_style='info', description='Progress:', layout=Layout(height='25px', width='50%'),…"
      ]
     },
     "metadata": {},
     "output_type": "display_data"
    },
    {
     "name": "stdout",
     "output_type": "stream",
     "text": [
      "+-------+--------+------+-------------------+-----------+\n",
      "|item_id|quantity| price|          timestamp|customer_id|\n",
      "+-------+--------+------+-------------------+-----------+\n",
      "|    100|      25|123.46|2020-11-17 09:15:32|          1|\n",
      "|    101|     300|123.46|2020-10-28 09:15:32|          1|\n",
      "|    102|       5|1038.0|2020-12-08 09:15:32|          2|\n",
      "+-------+--------+------+-------------------+-----------+"
     ]
    }
   ],
   "source": [
    "from pyspark.sql.functions import to_timestamp\n",
    "\n",
    "sales_schema = StructType([\n",
    "    StructField('item_id', StringType(), True),\n",
    "    StructField('quantity', IntegerType(), True),\n",
    "    StructField('price', DoubleType(), True),\n",
    "    StructField('timestamp', TimestampType(), True),\n",
    "    StructField('customer_id', StringType(), True)\n",
    "])\n",
    "\n",
    "sales_df = spark.createDataFrame(\n",
    "    [('100', 25, 123.46,\n",
    "      datetime.strptime('2020-11-17 09:15:32', '%Y-%m-%d %H:%M:%S'), '1'),\n",
    "     ('101', 300, 123.46,\n",
    "      datetime.strptime('2020-10-28 09:15:32', '%Y-%m-%d %H:%M:%S'), '1'),\n",
    "     ('102', 5, 1038.0,\n",
    "      datetime.strptime('2020-12-08 09:15:32', '%Y-%m-%d %H:%M:%S'), '2')],\n",
    "    sales_schema)\n",
    "\n",
    "sales_df.show()"
   ]
  },
  {
   "cell_type": "markdown",
   "id": "171eb258-a54d-4d58-8dc2-ae6906b07b0c",
   "metadata": {},
   "source": [
    "## Identify Customer surrogate key"
   ]
  },
  {
   "cell_type": "code",
   "execution_count": 12,
   "id": "f32fb3b0-7f1a-4167-b24d-53020634a6b5",
   "metadata": {
    "execution": {
     "iopub.execute_input": "2022-10-29T11:48:40.659940Z",
     "iopub.status.busy": "2022-10-29T11:48:40.659661Z",
     "iopub.status.idle": "2022-10-29T11:48:42.919296Z",
     "shell.execute_reply": "2022-10-29T11:48:42.918691Z",
     "shell.execute_reply.started": "2022-10-29T11:48:40.659914Z"
    },
    "tags": []
   },
   "outputs": [
    {
     "data": {
      "application/vnd.jupyter.widget-view+json": {
       "model_id": "fac8548d37c246c6af22578bca03e679",
       "version_major": 2,
       "version_minor": 0
      },
      "text/plain": [
       "VBox()"
      ]
     },
     "metadata": {},
     "output_type": "display_data"
    },
    {
     "data": {
      "application/vnd.jupyter.widget-view+json": {
       "model_id": "",
       "version_major": 2,
       "version_minor": 0
      },
      "text/plain": [
       "FloatProgress(value=0.0, bar_style='info', description='Progress:', layout=Layout(height='25px', width='50%'),…"
      ]
     },
     "metadata": {},
     "output_type": "display_data"
    },
    {
     "name": "stdout",
     "output_type": "stream",
     "text": [
      "+-------+--------+------+-------------------+-----------+----------------+\n",
      "|item_id|quantity| price|          timestamp|customer_id|     customer_sk|\n",
      "+-------+--------+------+-------------------+-----------+----------------+\n",
      "|    100|      25|123.46|2020-11-17 09:15:32|          1|1667043835275598|\n",
      "|    101|     300|123.46|2020-10-28 09:15:32|          1|1667043835275598|\n",
      "|    102|       5|1038.0|2020-12-08 09:15:32|          2|1667043836100448|\n",
      "+-------+--------+------+-------------------+-----------+----------------+"
     ]
    }
   ],
   "source": [
    "from pyspark.sql.functions import when\n",
    "\n",
    "join_cond = [\n",
    "    sales_df.customer_id == customer_sk_df.customer_id,\n",
    "    sales_df.timestamp >= customer_sk_df.eff_start_date,\n",
    "    sales_df.timestamp < customer_sk_df.eff_end_date\n",
    "]\n",
    "\n",
    "sales_with_cust_sk_df = (sales_df.join(\n",
    "    customer_sk_df, join_cond, 'leftouter').select(\n",
    "        sales_df['*'],\n",
    "        when(customer_sk_df.customer_sk.isNull(),\n",
    "             '-1').otherwise(customer_sk_df.customer_sk).alias(\"customer_sk\")))\n",
    "\n",
    "sales_with_cust_sk_df.show()"
   ]
  },
  {
   "cell_type": "markdown",
   "id": "16bca2d1-6f47-4b2d-943a-ace542082471",
   "metadata": {},
   "source": [
    "## Write Sales records"
   ]
  },
  {
   "cell_type": "code",
   "execution_count": 13,
   "id": "fe957265-fecd-485b-bafa-acac2e442778",
   "metadata": {
    "execution": {
     "iopub.execute_input": "2022-10-29T11:48:58.824750Z",
     "iopub.status.busy": "2022-10-29T11:48:58.824521Z",
     "iopub.status.idle": "2022-10-29T11:49:01.082836Z",
     "shell.execute_reply": "2022-10-29T11:49:01.082388Z",
     "shell.execute_reply.started": "2022-10-29T11:48:58.824726Z"
    },
    "tags": []
   },
   "outputs": [
    {
     "data": {
      "application/vnd.jupyter.widget-view+json": {
       "model_id": "21e7283fc5b14adf98e15e9b21bfc1db",
       "version_major": 2,
       "version_minor": 0
      },
      "text/plain": [
       "VBox()"
      ]
     },
     "metadata": {},
     "output_type": "display_data"
    },
    {
     "data": {
      "application/vnd.jupyter.widget-view+json": {
       "model_id": "",
       "version_major": 2,
       "version_minor": 0
      },
      "text/plain": [
       "FloatProgress(value=0.0, bar_style='info', description='Progress:', layout=Layout(height='25px', width='50%'),…"
      ]
     },
     "metadata": {},
     "output_type": "display_data"
    }
   ],
   "source": [
    "sales_table_path = 's3://646297494209-us-east-1-modern-data-lake-storage/sales/'\n",
    "sales_table_name = 'sales_table'\n",
    "\n",
    "sales_with_cust_sk_df.write.format('parquet')\\\n",
    "                             .mode('Overwrite')\\\n",
    "                             .save(sales_table_path)"
   ]
  },
  {
   "cell_type": "markdown",
   "id": "846f6cbc-1984-4166-80ec-4c0fbbb6f78f",
   "metadata": {},
   "source": [
    "## Read Sales records"
   ]
  },
  {
   "cell_type": "code",
   "execution_count": 14,
   "id": "a0540bed-eb7d-4dd1-a9c6-12d1579930bf",
   "metadata": {
    "execution": {
     "iopub.execute_input": "2022-10-29T11:49:16.444527Z",
     "iopub.status.busy": "2022-10-29T11:49:16.444300Z",
     "iopub.status.idle": "2022-10-29T11:49:17.192158Z",
     "shell.execute_reply": "2022-10-29T11:49:17.191697Z",
     "shell.execute_reply.started": "2022-10-29T11:49:16.444505Z"
    },
    "tags": []
   },
   "outputs": [
    {
     "data": {
      "application/vnd.jupyter.widget-view+json": {
       "model_id": "4d67796bad274ada9066c390e926d9f4",
       "version_major": 2,
       "version_minor": 0
      },
      "text/plain": [
       "VBox()"
      ]
     },
     "metadata": {},
     "output_type": "display_data"
    },
    {
     "data": {
      "application/vnd.jupyter.widget-view+json": {
       "model_id": "",
       "version_major": 2,
       "version_minor": 0
      },
      "text/plain": [
       "FloatProgress(value=0.0, bar_style='info', description='Progress:', layout=Layout(height='25px', width='50%'),…"
      ]
     },
     "metadata": {},
     "output_type": "display_data"
    },
    {
     "name": "stdout",
     "output_type": "stream",
     "text": [
      "+-------+--------+------+-------------------+-----------+----------------+\n",
      "|item_id|quantity|price |timestamp          |customer_id|customer_sk     |\n",
      "+-------+--------+------+-------------------+-----------+----------------+\n",
      "|100    |25      |123.46|2020-11-17 09:15:32|1          |1667043835275598|\n",
      "|101    |300     |123.46|2020-10-28 09:15:32|1          |1667043835275598|\n",
      "|102    |5       |1038.0|2020-12-08 09:15:32|2          |1667043836100448|\n",
      "+-------+--------+------+-------------------+-----------+----------------+"
     ]
    }
   ],
   "source": [
    "sales_with_cust_sk_df = spark. \\\n",
    "  read. \\\n",
    "  load(sales_table_path)\n",
    "\n",
    "sales_with_cust_sk_df.createOrReplaceTempView(sales_table_name)\n",
    "\n",
    "spark.sql('select item_id, '\n",
    "          'quantity,'\n",
    "          'price,'\n",
    "          'timestamp,'\n",
    "          'customer_id,'\n",
    "          'customer_sk from ' + sales_table_name).show(5, False)"
   ]
  },
  {
   "cell_type": "markdown",
   "id": "939487f0-4440-40bd-8e9d-81c96120cb84",
   "metadata": {},
   "source": [
    "## Sales by Country"
   ]
  },
  {
   "cell_type": "code",
   "execution_count": 15,
   "id": "77c222d1-05c1-4bf5-84f8-481f9b1e90ee",
   "metadata": {
    "execution": {
     "iopub.execute_input": "2022-10-29T11:49:22.463761Z",
     "iopub.status.busy": "2022-10-29T11:49:22.463554Z",
     "iopub.status.idle": "2022-10-29T11:49:23.716997Z",
     "shell.execute_reply": "2022-10-29T11:49:23.716536Z",
     "shell.execute_reply.started": "2022-10-29T11:49:22.463739Z"
    },
    "tags": []
   },
   "outputs": [
    {
     "data": {
      "application/vnd.jupyter.widget-view+json": {
       "model_id": "f2dc5aea71ba4f9199fc02cce1420a46",
       "version_major": 2,
       "version_minor": 0
      },
      "text/plain": [
       "VBox()"
      ]
     },
     "metadata": {},
     "output_type": "display_data"
    },
    {
     "data": {
      "application/vnd.jupyter.widget-view+json": {
       "model_id": "",
       "version_major": 2,
       "version_minor": 0
      },
      "text/plain": [
       "FloatProgress(value=0.0, bar_style='info', description='Progress:', layout=Layout(height='25px', width='50%'),…"
      ]
     },
     "metadata": {},
     "output_type": "display_data"
    },
    {
     "name": "stdout",
     "output_type": "stream",
     "text": [
      "+-------+--------------+-----------+\n",
      "|country|sales_quantity|count_sales|\n",
      "+-------+--------------+-----------+\n",
      "|     US|             5|          1|\n",
      "|     UK|           325|          2|\n",
      "+-------+--------------+-----------+"
     ]
    }
   ],
   "source": [
    "spark.sql('SELECT ct.country, '\n",
    "          'SUM(st.quantity) as sales_quantity,'\n",
    "          'COUNT(*) as count_sales '\n",
    "          'FROM sales_table st '\n",
    "          'INNER JOIN customers_table ct on st.customer_sk = ct.customer_sk '\n",
    "          'group by ct.country').show()"
   ]
  },
  {
   "cell_type": "markdown",
   "id": "0307030d-61db-48e2-a396-158d5a79c22a",
   "metadata": {},
   "source": [
    "## New/Updated Customer records"
   ]
  },
  {
   "cell_type": "code",
   "execution_count": 16,
   "id": "ce108e62-1ae1-4f6b-ac98-6f66e6d1fd6f",
   "metadata": {
    "execution": {
     "iopub.execute_input": "2022-10-29T11:49:54.706255Z",
     "iopub.status.busy": "2022-10-29T11:49:54.706042Z",
     "iopub.status.idle": "2022-10-29T11:49:55.959880Z",
     "shell.execute_reply": "2022-10-29T11:49:55.959433Z",
     "shell.execute_reply.started": "2022-10-29T11:49:54.706233Z"
    },
    "tags": []
   },
   "outputs": [
    {
     "data": {
      "application/vnd.jupyter.widget-view+json": {
       "model_id": "7e51edecf3574e38ac6865330d436008",
       "version_major": 2,
       "version_minor": 0
      },
      "text/plain": [
       "VBox()"
      ]
     },
     "metadata": {},
     "output_type": "display_data"
    },
    {
     "data": {
      "application/vnd.jupyter.widget-view+json": {
       "model_id": "",
       "version_major": 2,
       "version_minor": 0
      },
      "text/plain": [
       "FloatProgress(value=0.0, bar_style='info', description='Progress:', layout=Layout(height='25px', width='50%'),…"
      ]
     },
     "metadata": {},
     "output_type": "display_data"
    },
    {
     "name": "stdout",
     "output_type": "stream",
     "text": [
      "+-----------+----------+---------+------+-------+--------------+------------+-------------------+----------+----------------+\n",
      "|customer_id|first_name|last_name|  city|country|eff_start_date|eff_end_date|          timestamp|is_current|     customer_sk|\n",
      "+-----------+----------+---------+------+-------+--------------+------------+-------------------+----------+----------------+\n",
      "|          3|   Bastian|     Back|Berlin|     GE|    2022-10-29|  2999-12-31|2020-12-09 09:15:32|      true|1667044195322292|\n",
      "|          2|     Susan|     Chas| Paris|     FR|    2022-10-29|  2999-12-31|2020-12-09 10:15:32|      true|1667044195643383|\n",
      "+-----------+----------+---------+------+-------+--------------+------------+-------------------+----------+----------------+"
     ]
    }
   ],
   "source": [
    "new_customer_df = spark.createDataFrame(\n",
    "    [('3', 'Bastian', 'Back', 'Berlin', 'GE',\n",
    "      datetime.strptime(datetime.today().strftime('%Y-%m-%d'), '%Y-%m-%d'),\n",
    "      datetime.strptime('2999-12-31', '%Y-%m-%d'),\n",
    "      datetime.strptime('2020-12-09 09:15:32', '%Y-%m-%d %H:%M:%S'), True),\n",
    "     ('2', 'Susan', 'Chas', 'Paris', 'FR',\n",
    "      datetime.strptime(datetime.today().strftime('%Y-%m-%d'), '%Y-%m-%d'),\n",
    "      datetime.strptime('2999-12-31', '%Y-%m-%d'),\n",
    "      datetime.strptime('2020-12-09 10:15:32', '%Y-%m-%d %H:%M:%S'), True)],\n",
    "    customer_schema)\n",
    "\n",
    "new_customer_df = new_customer_df.withColumn(\"customer_sk\", random_udf())\n",
    "new_customer_df.cache()\n",
    "new_customer_df.show()"
   ]
  },
  {
   "cell_type": "markdown",
   "id": "771e05c6-9de3-42c1-aa53-ec24f9be302b",
   "metadata": {},
   "source": [
    "## Update Customers"
   ]
  },
  {
   "cell_type": "code",
   "execution_count": 17,
   "id": "05fb32ee-d67d-404e-bc26-af840a6812f0",
   "metadata": {
    "execution": {
     "iopub.execute_input": "2022-10-29T11:50:13.537725Z",
     "iopub.status.busy": "2022-10-29T11:50:13.537510Z",
     "iopub.status.idle": "2022-10-29T11:50:20.807567Z",
     "shell.execute_reply": "2022-10-29T11:50:20.807099Z",
     "shell.execute_reply.started": "2022-10-29T11:50:13.537701Z"
    },
    "tags": []
   },
   "outputs": [
    {
     "data": {
      "application/vnd.jupyter.widget-view+json": {
       "model_id": "375fb755148945b2b175ddb55be4e75d",
       "version_major": 2,
       "version_minor": 0
      },
      "text/plain": [
       "VBox()"
      ]
     },
     "metadata": {},
     "output_type": "display_data"
    },
    {
     "data": {
      "application/vnd.jupyter.widget-view+json": {
       "model_id": "",
       "version_major": 2,
       "version_minor": 0
      },
      "text/plain": [
       "FloatProgress(value=0.0, bar_style='info', description='Progress:', layout=Layout(height='25px', width='50%'),…"
      ]
     },
     "metadata": {},
     "output_type": "display_data"
    }
   ],
   "source": [
    "from pyspark.sql.functions import lit\n",
    "\n",
    "join_cond = [\n",
    "    customer_sk_df.customer_id == new_customer_df.customer_id,\n",
    "    customer_sk_df.is_current == True\n",
    "]\n",
    "\n",
    "## Find customer records to update\n",
    "customers_to_update_df = (customer_sk_df.join(\n",
    "    new_customer_df, join_cond).select(\n",
    "        customer_sk_df.customer_id, customer_sk_df.first_name,\n",
    "        customer_sk_df.last_name, customer_sk_df.city, customer_sk_df.country,\n",
    "        customer_sk_df.eff_start_date,\n",
    "        new_customer_df.eff_start_date.alias(\"eff_end_date\"),\n",
    "        customer_sk_df.customer_sk,\n",
    "        customer_sk_df.timestamp).withColumn('is_current', lit(False)))\n",
    "\n",
    "## Union with new customer records\n",
    "merged_customers_df = new_customer_df.unionByName(customers_to_update_df)\n",
    "\n",
    "record_key = 'customer_sk'\n",
    "partition_key = \"country\"\n",
    "\n",
    "# Upsert\n",
    "merged_customers_df.write.format('org.apache.hudi')\\\n",
    "                    .options(**hudi_options)\\\n",
    "                    .option('hoodie.table.name',customers_table_name)\\\n",
    "                    .option('hoodie.datasource.write.recordkey.field', record_key)\\\n",
    "                    .option('hoodie.datasource.write.partitionpath.field',partition_key)\\\n",
    "                    .option('hoodie.datasource.write.precombine.field','timestamp')\\\n",
    "                    .option('hoodie.datasource.write.operation', 'upsert')\\\n",
    "                    .option('hoodie.datasource.hive_sync.table',customers_table_name)\\\n",
    "                    .mode('append')\\\n",
    "                    .save(customers_table_path)"
   ]
  },
  {
   "cell_type": "code",
   "execution_count": 18,
   "id": "0b179a33-6107-4329-b27a-d353bf0aab2e",
   "metadata": {
    "execution": {
     "iopub.execute_input": "2022-10-29T11:50:22.600029Z",
     "iopub.status.busy": "2022-10-29T11:50:22.599826Z",
     "iopub.status.idle": "2022-10-29T11:50:23.853212Z",
     "shell.execute_reply": "2022-10-29T11:50:23.852752Z",
     "shell.execute_reply.started": "2022-10-29T11:50:22.600007Z"
    },
    "tags": []
   },
   "outputs": [
    {
     "data": {
      "application/vnd.jupyter.widget-view+json": {
       "model_id": "68f978d6f2104c6dbb8906bfec4c5602",
       "version_major": 2,
       "version_minor": 0
      },
      "text/plain": [
       "VBox()"
      ]
     },
     "metadata": {},
     "output_type": "display_data"
    },
    {
     "data": {
      "application/vnd.jupyter.widget-view+json": {
       "model_id": "",
       "version_major": 2,
       "version_minor": 0
      },
      "text/plain": [
       "FloatProgress(value=0.0, bar_style='info', description='Progress:', layout=Layout(height='25px', width='50%'),…"
      ]
     },
     "metadata": {},
     "output_type": "display_data"
    },
    {
     "name": "stdout",
     "output_type": "stream",
     "text": [
      "+-----------+----------+---------+-------+-------+--------------+------------+----------------+----------+\n",
      "|customer_id|first_name|last_name|   city|country|eff_start_date|eff_end_date|     customer_sk|is_current|\n",
      "+-----------+----------+---------+-------+-------+--------------+------------+----------------+----------+\n",
      "|          3|   Bastian|     Back| Berlin|     GE|    2022-10-29|  2999-12-31|1667044195322292|      true|\n",
      "|          2|     Susan|     Chas|Seattle|     US|    2020-10-14|  2022-10-29|1667043836100448|     false|\n",
      "|          2|     Susan|     Chas|  Paris|     FR|    2022-10-29|  2999-12-31|1667044195643383|      true|\n",
      "|          1|      John|    Smith| London|     UK|    2020-09-27|  2999-12-31|1667043835275598|      true|\n",
      "+-----------+----------+---------+-------+-------+--------------+------------+----------------+----------+"
     ]
    }
   ],
   "source": [
    "customer_sk_df = spark. \\\n",
    "  read. \\\n",
    "  format(\"hudi\"). \\\n",
    "  load(customers_table_path)\n",
    "\n",
    "customer_sk_df.createOrReplaceTempView(customers_table_name)\n",
    "\n",
    "spark.sql('select customer_id,'\n",
    "          'first_name, '\n",
    "          'last_name, '\n",
    "          'city, '\n",
    "          'country, '\n",
    "          'eff_start_date, '\n",
    "          'eff_end_date, '\n",
    "          'customer_sk, '\n",
    "          'is_current '\n",
    "          'from ' + customers_table_name).show()"
   ]
  },
  {
   "cell_type": "code",
   "execution_count": 19,
   "id": "3eb3f56b-5c02-40f5-b72e-3e97da1dce4d",
   "metadata": {
    "execution": {
     "iopub.execute_input": "2022-10-29T11:50:47.735248Z",
     "iopub.status.busy": "2022-10-29T11:50:47.735037Z",
     "iopub.status.idle": "2022-10-29T11:50:48.482546Z",
     "shell.execute_reply": "2022-10-29T11:50:48.482040Z",
     "shell.execute_reply.started": "2022-10-29T11:50:47.735225Z"
    },
    "tags": []
   },
   "outputs": [
    {
     "data": {
      "application/vnd.jupyter.widget-view+json": {
       "model_id": "c2cfbc4ac8c64cdd9db2385d8ae60925",
       "version_major": 2,
       "version_minor": 0
      },
      "text/plain": [
       "VBox()"
      ]
     },
     "metadata": {},
     "output_type": "display_data"
    },
    {
     "data": {
      "application/vnd.jupyter.widget-view+json": {
       "model_id": "",
       "version_major": 2,
       "version_minor": 0
      },
      "text/plain": [
       "FloatProgress(value=0.0, bar_style='info', description='Progress:', layout=Layout(height='25px', width='50%'),…"
      ]
     },
     "metadata": {},
     "output_type": "display_data"
    },
    {
     "name": "stdout",
     "output_type": "stream",
     "text": [
      "+-------+--------+------+-------------------+-----------+\n",
      "|item_id|quantity| price|          timestamp|customer_id|\n",
      "+-------+--------+------+-------------------+-----------+\n",
      "|    103|     250|  12.3|2022-10-29 12:15:42|          2|\n",
      "|    104|       3|1021.0|2022-10-29 06:35:32|          2|\n",
      "+-------+--------+------+-------------------+-----------+"
     ]
    }
   ],
   "source": [
    "sales_df = spark.createDataFrame(\n",
    "    [('103', 250, 12.3,\n",
    "      datetime.strptime(datetime.today().strftime('%Y-%m-%d') + ' 12:15:42',\n",
    "                        '%Y-%m-%d %H:%M:%S'), '2'),\n",
    "     ('104', 3, 1021.0,\n",
    "      datetime.strptime(datetime.today().strftime('%Y-%m-%d') + ' 06:35:32',\n",
    "                        '%Y-%m-%d %H:%M:%S'), '2')], sales_schema)\n",
    "\n",
    "sales_df.show()"
   ]
  },
  {
   "cell_type": "code",
   "execution_count": 20,
   "id": "396b5f8a-0272-4ed1-95dd-3faa35bbf9e5",
   "metadata": {
    "execution": {
     "iopub.execute_input": "2022-10-29T11:51:06.661753Z",
     "iopub.status.busy": "2022-10-29T11:51:06.661545Z",
     "iopub.status.idle": "2022-10-29T11:51:07.913856Z",
     "shell.execute_reply": "2022-10-29T11:51:07.913367Z",
     "shell.execute_reply.started": "2022-10-29T11:51:06.661732Z"
    },
    "tags": []
   },
   "outputs": [
    {
     "data": {
      "application/vnd.jupyter.widget-view+json": {
       "model_id": "bf474c69ba8840619328705805bee619",
       "version_major": 2,
       "version_minor": 0
      },
      "text/plain": [
       "VBox()"
      ]
     },
     "metadata": {},
     "output_type": "display_data"
    },
    {
     "data": {
      "application/vnd.jupyter.widget-view+json": {
       "model_id": "",
       "version_major": 2,
       "version_minor": 0
      },
      "text/plain": [
       "FloatProgress(value=0.0, bar_style='info', description='Progress:', layout=Layout(height='25px', width='50%'),…"
      ]
     },
     "metadata": {},
     "output_type": "display_data"
    },
    {
     "name": "stdout",
     "output_type": "stream",
     "text": [
      "+-------+--------+------+-------------------+-----------+----------------+\n",
      "|item_id|quantity| price|          timestamp|customer_id|     customer_sk|\n",
      "+-------+--------+------+-------------------+-----------+----------------+\n",
      "|    103|     250|  12.3|2022-10-29 12:15:42|          2|1667044195643383|\n",
      "|    104|       3|1021.0|2022-10-29 06:35:32|          2|1667044195643383|\n",
      "+-------+--------+------+-------------------+-----------+----------------+"
     ]
    }
   ],
   "source": [
    "from pyspark.sql.functions import when\n",
    "\n",
    "join_cond = [\n",
    "    sales_df.customer_id == customer_sk_df.customer_id,\n",
    "    sales_df.timestamp >= customer_sk_df.eff_start_date,\n",
    "    sales_df.timestamp < customer_sk_df.eff_end_date\n",
    "]\n",
    "\n",
    "sales_with_cust_sk_df = (sales_df.join(\n",
    "    customer_sk_df, join_cond, 'leftouter').select(\n",
    "        sales_df['*'],\n",
    "        when(customer_sk_df.customer_sk.isNull(),\n",
    "             '-1').otherwise(customer_sk_df.customer_sk).alias(\"customer_sk\")))\n",
    "\n",
    "sales_with_cust_sk_df.show()"
   ]
  },
  {
   "cell_type": "code",
   "execution_count": 21,
   "id": "906d318b-33fb-4968-8dcc-8adb1696b624",
   "metadata": {
    "execution": {
     "iopub.execute_input": "2022-10-29T11:51:26.358518Z",
     "iopub.status.busy": "2022-10-29T11:51:26.358312Z",
     "iopub.status.idle": "2022-10-29T11:51:28.614512Z",
     "shell.execute_reply": "2022-10-29T11:51:28.614062Z",
     "shell.execute_reply.started": "2022-10-29T11:51:26.358496Z"
    },
    "tags": []
   },
   "outputs": [
    {
     "data": {
      "application/vnd.jupyter.widget-view+json": {
       "model_id": "20beed23a984434bbbf243837975e045",
       "version_major": 2,
       "version_minor": 0
      },
      "text/plain": [
       "VBox()"
      ]
     },
     "metadata": {},
     "output_type": "display_data"
    },
    {
     "data": {
      "application/vnd.jupyter.widget-view+json": {
       "model_id": "",
       "version_major": 2,
       "version_minor": 0
      },
      "text/plain": [
       "FloatProgress(value=0.0, bar_style='info', description='Progress:', layout=Layout(height='25px', width='50%'),…"
      ]
     },
     "metadata": {},
     "output_type": "display_data"
    }
   ],
   "source": [
    "sales_table_path = 's3://646297494209-us-east-1-modern-data-lake-storage/sales/'\n",
    "sales_table_name = 'sales_table'\n",
    "\n",
    "sales_with_cust_sk_df.write.format('parquet')\\\n",
    "                             .mode('Append')\\\n",
    "                             .save(sales_table_path)"
   ]
  },
  {
   "cell_type": "code",
   "execution_count": 22,
   "id": "920be5b1-ffb9-4a99-9abe-bf976cec650e",
   "metadata": {
    "execution": {
     "iopub.execute_input": "2022-10-29T11:51:32.082423Z",
     "iopub.status.busy": "2022-10-29T11:51:32.082215Z",
     "iopub.status.idle": "2022-10-29T11:51:32.829730Z",
     "shell.execute_reply": "2022-10-29T11:51:32.829280Z",
     "shell.execute_reply.started": "2022-10-29T11:51:32.082402Z"
    },
    "tags": []
   },
   "outputs": [
    {
     "data": {
      "application/vnd.jupyter.widget-view+json": {
       "model_id": "39a736f8e06a4a4681a7469210aa655a",
       "version_major": 2,
       "version_minor": 0
      },
      "text/plain": [
       "VBox()"
      ]
     },
     "metadata": {},
     "output_type": "display_data"
    },
    {
     "data": {
      "application/vnd.jupyter.widget-view+json": {
       "model_id": "",
       "version_major": 2,
       "version_minor": 0
      },
      "text/plain": [
       "FloatProgress(value=0.0, bar_style='info', description='Progress:', layout=Layout(height='25px', width='50%'),…"
      ]
     },
     "metadata": {},
     "output_type": "display_data"
    },
    {
     "name": "stdout",
     "output_type": "stream",
     "text": [
      "+-------+--------+------+-------------------+-----------+----------------+\n",
      "|item_id|quantity|price |timestamp          |customer_id|customer_sk     |\n",
      "+-------+--------+------+-------------------+-----------+----------------+\n",
      "|100    |25      |123.46|2020-11-17 09:15:32|1          |1667043835275598|\n",
      "|103    |250     |12.3  |2022-10-29 12:15:42|2          |1667044195643383|\n",
      "|101    |300     |123.46|2020-10-28 09:15:32|1          |1667043835275598|\n",
      "|102    |5       |1038.0|2020-12-08 09:15:32|2          |1667043836100448|\n",
      "|104    |3       |1021.0|2022-10-29 06:35:32|2          |1667044195643383|\n",
      "+-------+--------+------+-------------------+-----------+----------------+"
     ]
    }
   ],
   "source": [
    "sales_with_cust_sk_df = spark. \\\n",
    "  read. \\\n",
    "  load(sales_table_path)\n",
    "\n",
    "sales_with_cust_sk_df.createOrReplaceTempView(sales_table_name)\n",
    "\n",
    "spark.sql(\n",
    "    \"select item_id, quantity, price, timestamp, customer_id, customer_sk from \"\n",
    "    + sales_table_name).show(5, False)"
   ]
  },
  {
   "cell_type": "code",
   "execution_count": 23,
   "id": "54378aa8-a3b1-444a-8cfe-ae10c5743029",
   "metadata": {
    "execution": {
     "iopub.execute_input": "2022-10-29T11:51:43.002159Z",
     "iopub.status.busy": "2022-10-29T11:51:43.001947Z",
     "iopub.status.idle": "2022-10-29T11:51:43.750346Z",
     "shell.execute_reply": "2022-10-29T11:51:43.749905Z",
     "shell.execute_reply.started": "2022-10-29T11:51:43.002137Z"
    },
    "tags": []
   },
   "outputs": [
    {
     "data": {
      "application/vnd.jupyter.widget-view+json": {
       "model_id": "98ffa51fa7534b7db5d4426f42273049",
       "version_major": 2,
       "version_minor": 0
      },
      "text/plain": [
       "VBox()"
      ]
     },
     "metadata": {},
     "output_type": "display_data"
    },
    {
     "data": {
      "application/vnd.jupyter.widget-view+json": {
       "model_id": "",
       "version_major": 2,
       "version_minor": 0
      },
      "text/plain": [
       "FloatProgress(value=0.0, bar_style='info', description='Progress:', layout=Layout(height='25px', width='50%'),…"
      ]
     },
     "metadata": {},
     "output_type": "display_data"
    },
    {
     "name": "stdout",
     "output_type": "stream",
     "text": [
      "+-------+--------------+-----------+\n",
      "|country|sales_quantity|count_sales|\n",
      "+-------+--------------+-----------+\n",
      "|     US|             5|          1|\n",
      "|     UK|           325|          2|\n",
      "|     FR|           253|          2|\n",
      "+-------+--------------+-----------+"
     ]
    }
   ],
   "source": [
    "spark.sql(\n",
    "    'SELECT ct.country, SUM(st.quantity) as sales_quantity, COUNT(*) as count_sales '\n",
    "    'FROM sales_table st '\n",
    "    'INNER JOIN customers_table ct on st.customer_sk = ct.customer_sk group by ct.country'\n",
    ").show()"
   ]
  },
  {
   "cell_type": "code",
   "execution_count": null,
   "id": "2af608ab-8c33-4832-b3e2-422aedec7406",
   "metadata": {},
   "outputs": [],
   "source": []
  }
 ],
 "metadata": {
  "kernelspec": {
   "display_name": "PySpark",
   "language": "",
   "name": "pysparkkernel"
  },
  "language_info": {
   "codemirror_mode": {
    "name": "python",
    "version": 3
   },
   "mimetype": "text/x-python",
   "name": "pyspark",
   "pygments_lexer": "python3"
  }
 },
 "nbformat": 4,
 "nbformat_minor": 5
}
