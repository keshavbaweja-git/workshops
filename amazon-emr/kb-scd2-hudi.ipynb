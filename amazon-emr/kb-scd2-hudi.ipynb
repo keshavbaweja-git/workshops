{
 "cells": [
  {
   "cell_type": "code",
   "execution_count": 1,
   "id": "a115c9d7-093a-4ca7-b332-998cf2cfb3aa",
   "metadata": {
    "execution": {
     "iopub.execute_input": "2022-10-29T11:10:47.893270Z",
     "iopub.status.busy": "2022-10-29T11:10:47.893063Z",
     "iopub.status.idle": "2022-10-29T11:10:47.915629Z",
     "shell.execute_reply": "2022-10-29T11:10:47.915162Z",
     "shell.execute_reply.started": "2022-10-29T11:10:47.893248Z"
    },
    "tags": []
   },
   "outputs": [
    {
     "data": {
      "text/html": [
       "Current session configs: <tt>{'conf': {'spark.jars': 'hdfs:///apps/hudi/lib/hudi-spark-bundle.jar,hdfs:///apps/hudi/lib/spark-avro.jar', 'spark.serializer': 'org.apache.spark.serializer.KryoSerializer', 'spark.sql.hive.convertMetastoreParquet': 'false'}, 'proxyUser': 'user_admin1', 'kind': 'pyspark'}</tt><br>"
      ],
      "text/plain": [
       "<IPython.core.display.HTML object>"
      ]
     },
     "metadata": {},
     "output_type": "display_data"
    },
    {
     "data": {
      "text/html": [
       "<table>\n<tbody><tr><th>ID</th><th>YARN Application ID</th><th>Kind</th><th>State</th><th>Spark UI</th><th>Driver log</th><th>Current session?</th></tr><tr><td>2</td><td>application_1666706558378_0004</td><td>pyspark</td><td>idle</td><td><a target=\"_blank\" href=\"http://ip-172-31-14-203.ec2.internal:20888/proxy/application_1666706558378_0004/\" class=\"emr-proxy-link j-2H0BRKYNA0YSO application_1666706558378_0004\" emr-resource=\"j-2H0BRKYNA0YSO\n\" application-id=\"application_1666706558378_0004\">Link</a></td><td><a target=\"_blank\" href=\"http://ip-172-31-9-49.ec2.internal:8042/node/containerlogs/container_1666706558378_0004_01_000001/livy\">Link</a></td><td></td></tr></tbody></table>"
      ],
      "text/plain": [
       "<IPython.core.display.HTML object>"
      ]
     },
     "metadata": {},
     "output_type": "display_data"
    }
   ],
   "source": [
    "%%configure -f\n",
    "{\n",
    "    \"conf\": {\n",
    "        \"spark.jars\": \"hdfs:///apps/hudi/lib/hudi-spark-bundle.jar,hdfs:///apps/hudi/lib/spark-avro.jar\",\n",
    "        \"spark.serializer\": \"org.apache.spark.serializer.KryoSerializer\",\n",
    "        \"spark.sql.hive.convertMetastoreParquet\": \"false\"\n",
    "    }\n",
    "}"
   ]
  },
  {
   "cell_type": "code",
   "execution_count": 2,
   "id": "772173e7-8254-4f6c-b413-c3d84843bb81",
   "metadata": {
    "execution": {
     "iopub.execute_input": "2022-10-29T11:10:47.921142Z",
     "iopub.status.busy": "2022-10-29T11:10:47.921003Z",
     "iopub.status.idle": "2022-10-29T11:11:05.964991Z",
     "shell.execute_reply": "2022-10-29T11:11:05.964565Z",
     "shell.execute_reply.started": "2022-10-29T11:10:47.921125Z"
    },
    "tags": []
   },
   "outputs": [
    {
     "data": {
      "application/vnd.jupyter.widget-view+json": {
       "model_id": "365905cebbd2452da40386c6ec8b290b",
       "version_major": 2,
       "version_minor": 0
      },
      "text/plain": [
       "VBox()"
      ]
     },
     "metadata": {},
     "output_type": "display_data"
    },
    {
     "name": "stdout",
     "output_type": "stream",
     "text": [
      "Starting Spark application\n"
     ]
    },
    {
     "data": {
      "text/html": [
       "<table>\n",
       "<tr><th>ID</th><th>YARN Application ID</th><th>Kind</th><th>State</th><th>Spark UI</th><th>Driver log</th><th>Current session?</th></tr><tr><td>5</td><td>application_1666706558378_0007</td><td>pyspark</td><td>idle</td><td><a target=\"_blank\" href=\"http://ip-172-31-14-203.ec2.internal:20888/proxy/application_1666706558378_0007/\" class=\"emr-proxy-link\" emr-resource=\"j-2H0BRKYNA0YSO\n",
       "\" application-id=\"application_1666706558378_0007\">Link</a></td><td><a target=\"_blank\" href=\"http://ip-172-31-9-49.ec2.internal:8042/node/containerlogs/container_1666706558378_0007_01_000001/livy\" >Link</a></td><td>✔</td></tr></table>"
      ],
      "text/plain": [
       "<IPython.core.display.HTML object>"
      ]
     },
     "metadata": {},
     "output_type": "display_data"
    },
    {
     "data": {
      "application/vnd.jupyter.widget-view+json": {
       "model_id": "",
       "version_major": 2,
       "version_minor": 0
      },
      "text/plain": [
       "FloatProgress(value=0.0, bar_style='info', description='Progress:', layout=Layout(height='25px', width='50%'),…"
      ]
     },
     "metadata": {},
     "output_type": "display_data"
    },
    {
     "name": "stdout",
     "output_type": "stream",
     "text": [
      "SparkSession available as 'spark'.\n"
     ]
    },
    {
     "data": {
      "application/vnd.jupyter.widget-view+json": {
       "model_id": "",
       "version_major": 2,
       "version_minor": 0
      },
      "text/plain": [
       "FloatProgress(value=0.0, bar_style='info', description='Progress:', layout=Layout(height='25px', width='50%'),…"
      ]
     },
     "metadata": {},
     "output_type": "display_data"
    }
   ],
   "source": [
    "from pyspark.sql.types import (\n",
    "    StringType,\n",
    "    StructField,\n",
    "    StructType,\n",
    "    IntegerType,\n",
    "    DoubleType,\n",
    "    DateType,\n",
    "    BooleanType,\n",
    "    TimestampType\n",
    ")"
   ]
  },
  {
   "cell_type": "markdown",
   "id": "71f60aed-12e4-4c2e-90b1-a06fa62f4712",
   "metadata": {},
   "source": [
    "## Define Customer schema"
   ]
  },
  {
   "cell_type": "code",
   "execution_count": 3,
   "id": "de77ab23-1d19-4363-9666-4990d8a7ef03",
   "metadata": {
    "execution": {
     "iopub.execute_input": "2022-10-29T11:11:05.965893Z",
     "iopub.status.busy": "2022-10-29T11:11:05.965750Z",
     "iopub.status.idle": "2022-10-29T11:11:06.006066Z",
     "shell.execute_reply": "2022-10-29T11:11:06.005649Z",
     "shell.execute_reply.started": "2022-10-29T11:11:05.965875Z"
    },
    "tags": []
   },
   "outputs": [
    {
     "data": {
      "application/vnd.jupyter.widget-view+json": {
       "model_id": "2dacedfd802a4f30bd149aece6ab20fd",
       "version_major": 2,
       "version_minor": 0
      },
      "text/plain": [
       "VBox()"
      ]
     },
     "metadata": {},
     "output_type": "display_data"
    },
    {
     "data": {
      "application/vnd.jupyter.widget-view+json": {
       "model_id": "",
       "version_major": 2,
       "version_minor": 0
      },
      "text/plain": [
       "FloatProgress(value=0.0, bar_style='info', description='Progress:', layout=Layout(height='25px', width='50%'),…"
      ]
     },
     "metadata": {},
     "output_type": "display_data"
    }
   ],
   "source": [
    "customer_schema = StructType([\n",
    "        StructField('customer_id', StringType(), False),\n",
    "        StructField('first_name', StringType(), True),\n",
    "        StructField('last_name', StringType(), True),\n",
    "        StructField('city', StringType(), True),\n",
    "        StructField('country', StringType(), True),\n",
    "        StructField('eff_start_date', DateType(), True),\n",
    "        StructField('eff_end_date', DateType(), True),\n",
    "        StructField('timestamp', TimestampType(), True),\n",
    "        StructField('is_current', BooleanType(), True),\n",
    "    ])"
   ]
  },
  {
   "cell_type": "markdown",
   "id": "f7947fcf-8aee-4eda-bf43-973447ba178c",
   "metadata": {},
   "source": [
    "## Create Customer records"
   ]
  },
  {
   "cell_type": "code",
   "execution_count": 4,
   "id": "e11f62f5-ce9b-45e4-b8c0-9c028ffbfb77",
   "metadata": {
    "execution": {
     "iopub.execute_input": "2022-10-29T11:11:06.007063Z",
     "iopub.status.busy": "2022-10-29T11:11:06.006921Z",
     "iopub.status.idle": "2022-10-29T11:11:06.250752Z",
     "shell.execute_reply": "2022-10-29T11:11:06.250230Z",
     "shell.execute_reply.started": "2022-10-29T11:11:06.007045Z"
    },
    "tags": []
   },
   "outputs": [
    {
     "data": {
      "application/vnd.jupyter.widget-view+json": {
       "model_id": "fa2667ef60f345b89f136ee0eff8c07e",
       "version_major": 2,
       "version_minor": 0
      },
      "text/plain": [
       "VBox()"
      ]
     },
     "metadata": {},
     "output_type": "display_data"
    },
    {
     "data": {
      "application/vnd.jupyter.widget-view+json": {
       "model_id": "",
       "version_major": 2,
       "version_minor": 0
      },
      "text/plain": [
       "FloatProgress(value=0.0, bar_style='info', description='Progress:', layout=Layout(height='25px', width='50%'),…"
      ]
     },
     "metadata": {},
     "output_type": "display_data"
    }
   ],
   "source": [
    "from pyspark.sql.functions import udf\n",
    "import time\n",
    "\n",
    "random_udf = udf(lambda: str(int(time.time() * 1000000)), StringType()) "
   ]
  },
  {
   "cell_type": "code",
   "execution_count": 5,
   "id": "653187c6-a2a0-43c2-8d89-bcf8efdcff5b",
   "metadata": {
    "execution": {
     "iopub.execute_input": "2022-10-29T11:11:06.251732Z",
     "iopub.status.busy": "2022-10-29T11:11:06.251584Z",
     "iopub.status.idle": "2022-10-29T11:11:17.543501Z",
     "shell.execute_reply": "2022-10-29T11:11:17.542921Z",
     "shell.execute_reply.started": "2022-10-29T11:11:06.251714Z"
    },
    "tags": []
   },
   "outputs": [
    {
     "data": {
      "application/vnd.jupyter.widget-view+json": {
       "model_id": "e91adaf4fa9c44d1ac4fe47a8ba14a7d",
       "version_major": 2,
       "version_minor": 0
      },
      "text/plain": [
       "VBox()"
      ]
     },
     "metadata": {},
     "output_type": "display_data"
    },
    {
     "data": {
      "application/vnd.jupyter.widget-view+json": {
       "model_id": "",
       "version_major": 2,
       "version_minor": 0
      },
      "text/plain": [
       "FloatProgress(value=0.0, bar_style='info', description='Progress:', layout=Layout(height='25px', width='50%'),…"
      ]
     },
     "metadata": {},
     "output_type": "display_data"
    },
    {
     "name": "stdout",
     "output_type": "stream",
     "text": [
      "+-----------+----------+---------+-------+-------+--------------+------------+-------------------+----------+----------------+\n",
      "|customer_id|first_name|last_name|city   |country|eff_start_date|eff_end_date|timestamp          |is_current|customer_sk     |\n",
      "+-----------+----------+---------+-------+-------+--------------+------------+-------------------+----------+----------------+\n",
      "|1          |John      |Smith    |London |UK     |2020-09-27    |2999-12-31  |2020-12-08 09:15:32|true      |1667041876044190|\n",
      "|2          |Susan     |Chas     |Seattle|US     |2020-10-14    |2999-12-31  |2020-12-08 09:15:32|true      |1667041876947966|\n",
      "+-----------+----------+---------+-------+-------+--------------+------------+-------------------+----------+----------------+"
     ]
    }
   ],
   "source": [
    "from datetime import datetime\n",
    "\n",
    "customer_df = spark.createDataFrame([('1', 'John', 'Smith', 'London', 'UK', datetime.strptime('2020-09-27', '%Y-%m-%d'), datetime.strptime('2999-12-31', '%Y-%m-%d'), datetime.strptime('2020-12-08 09:15:32', '%Y-%m-%d %H:%M:%S'), True),\n",
    "                       ('2', 'Susan', 'Chas', 'Seattle', 'US', datetime.strptime('2020-10-14', '%Y-%m-%d'), datetime.strptime('2999-12-31', '%Y-%m-%d'), datetime.strptime('2020-12-08 09:15:32', '%Y-%m-%d %H:%M:%S'), True)], customer_schema)\n",
    "\n",
    "customer_sk_df = customer_df.withColumn(\"customer_sk\", random_udf())\n",
    "customer_sk_df.cache()\n",
    "customer_sk_df.show(5, False)"
   ]
  },
  {
   "cell_type": "code",
   "execution_count": 6,
   "id": "0b1fbf55-f366-4d2f-b1f2-109d83a46eec",
   "metadata": {
    "execution": {
     "iopub.execute_input": "2022-10-29T11:11:17.544407Z",
     "iopub.status.busy": "2022-10-29T11:11:17.544241Z",
     "iopub.status.idle": "2022-10-29T11:11:17.585730Z",
     "shell.execute_reply": "2022-10-29T11:11:17.585231Z",
     "shell.execute_reply.started": "2022-10-29T11:11:17.544388Z"
    },
    "tags": []
   },
   "outputs": [
    {
     "data": {
      "application/vnd.jupyter.widget-view+json": {
       "model_id": "8e68ccd5284c442bbc3799fd128f843a",
       "version_major": 2,
       "version_minor": 0
      },
      "text/plain": [
       "VBox()"
      ]
     },
     "metadata": {},
     "output_type": "display_data"
    },
    {
     "data": {
      "application/vnd.jupyter.widget-view+json": {
       "model_id": "",
       "version_major": 2,
       "version_minor": 0
      },
      "text/plain": [
       "FloatProgress(value=0.0, bar_style='info', description='Progress:', layout=Layout(height='25px', width='50%'),…"
      ]
     },
     "metadata": {},
     "output_type": "display_data"
    }
   ],
   "source": [
    "S3_BUCKET_NAME=\"646297494209-us-east-1-modern-data-lake-storage\""
   ]
  },
  {
   "cell_type": "code",
   "execution_count": 7,
   "id": "eee5cd29-fbda-4337-ba1c-6f844c563027",
   "metadata": {
    "execution": {
     "iopub.execute_input": "2022-10-29T11:11:28.595652Z",
     "iopub.status.busy": "2022-10-29T11:11:28.595410Z",
     "iopub.status.idle": "2022-10-29T11:11:46.070629Z",
     "shell.execute_reply": "2022-10-29T11:11:46.070173Z",
     "shell.execute_reply.started": "2022-10-29T11:11:28.595626Z"
    },
    "tags": []
   },
   "outputs": [
    {
     "data": {
      "application/vnd.jupyter.widget-view+json": {
       "model_id": "6e6935fd296340959ef0bdec2cc526b9",
       "version_major": 2,
       "version_minor": 0
      },
      "text/plain": [
       "VBox()"
      ]
     },
     "metadata": {},
     "output_type": "display_data"
    },
    {
     "data": {
      "application/vnd.jupyter.widget-view+json": {
       "model_id": "",
       "version_major": 2,
       "version_minor": 0
      },
      "text/plain": [
       "FloatProgress(value=0.0, bar_style='info', description='Progress:', layout=Layout(height='25px', width='50%'),…"
      ]
     },
     "metadata": {},
     "output_type": "display_data"
    }
   ],
   "source": [
    "customers_table_path = 's3://646297494209-us-east-1-modern-data-lake-storage/customers/'\n",
    "customers_table_name = 'customers_table'\n",
    "\n",
    "record_key = \"customer_sk\"\n",
    "partition_key = \"country\"\n",
    "\n",
    "hudi_options = {'hoodie.insert.shuffle.parallelism':'2',\n",
    "               'hoodie.upsert.shuffle.parallelism':'2',\n",
    "               'hoodie.delete.shuffle.parallelism':'2',\n",
    "               'hoodie.bulkinsert.shuffle.parallelism':'2',\n",
    "               'hoodie.datasource.hive_sync.enable':'false',\n",
    "               'hoodie.datasource.hive_sync.assume_date_partitioning':'true'\n",
    "}\n",
    "\n",
    "customer_sk_df.write.format('org.apache.hudi')\\\n",
    "                             .options(**hudi_options)\\\n",
    "                             .option('hoodie.table.name',customers_table_name)\\\n",
    "                             .option('hoodie.datasource.write.recordkey.field', record_key)\\\n",
    "                             .option('hoodie.datasource.write.partitionpath.field',partition_key)\\\n",
    "                             .option('hoodie.datasource.write.precombine.field','timestamp')\\\n",
    "                             .option('hoodie.datasource.write.operation', 'insert')\\\n",
    "                             .option('hoodie.datasource.hive_sync.table',customers_table_name)\\\n",
    "                             .mode('Overwrite')\\\n",
    "                             .save(customers_table_path)"
   ]
  },
  {
   "cell_type": "code",
   "execution_count": 8,
   "id": "4f886a5c-405e-4233-b90e-11bf26a95ade",
   "metadata": {
    "execution": {
     "iopub.execute_input": "2022-10-29T11:12:15.856838Z",
     "iopub.status.busy": "2022-10-29T11:12:15.856638Z",
     "iopub.status.idle": "2022-10-29T11:12:21.123013Z",
     "shell.execute_reply": "2022-10-29T11:12:21.122563Z",
     "shell.execute_reply.started": "2022-10-29T11:12:15.856817Z"
    },
    "tags": []
   },
   "outputs": [
    {
     "data": {
      "application/vnd.jupyter.widget-view+json": {
       "model_id": "3162ced4ebef4667a022f6517cb84e9e",
       "version_major": 2,
       "version_minor": 0
      },
      "text/plain": [
       "VBox()"
      ]
     },
     "metadata": {},
     "output_type": "display_data"
    },
    {
     "data": {
      "application/vnd.jupyter.widget-view+json": {
       "model_id": "",
       "version_major": 2,
       "version_minor": 0
      },
      "text/plain": [
       "FloatProgress(value=0.0, bar_style='info', description='Progress:', layout=Layout(height='25px', width='50%'),…"
      ]
     },
     "metadata": {},
     "output_type": "display_data"
    },
    {
     "name": "stdout",
     "output_type": "stream",
     "text": [
      "+-----------+----------+---------+-------+-------+--------------+------------+----------------+----------+\n",
      "|customer_id|first_name|last_name|city   |country|eff_start_date|eff_end_date|customer_sk     |is_current|\n",
      "+-----------+----------+---------+-------+-------+--------------+------------+----------------+----------+\n",
      "|2          |Susan     |Chas     |Seattle|US     |2020-10-14    |2999-12-31  |1667041876947966|true      |\n",
      "|1          |John      |Smith    |London |UK     |2020-09-27    |2999-12-31  |1667041876044190|true      |\n",
      "+-----------+----------+---------+-------+-------+--------------+------------+----------------+----------+"
     ]
    }
   ],
   "source": [
    "customer_sk_df = spark. \\\n",
    "  read. \\\n",
    "  format(\"hudi\"). \\\n",
    "  load(customers_table_path)\n",
    "\n",
    "customer_sk_df.createOrReplaceTempView(customers_table_name)\n",
    "\n",
    "spark.sql('select customer_id,'\n",
    "          'first_name, '\n",
    "          'last_name, '\n",
    "          'city, '\n",
    "          'country, '\n",
    "          'eff_start_date, '\n",
    "          'eff_end_date, '\n",
    "          'customer_sk, '\n",
    "          'is_current '\n",
    "          'from ' + customers_table_name).show(3, False)"
   ]
  },
  {
   "cell_type": "markdown",
   "id": "783ab41c-c80a-4146-9fa4-8db8a9765896",
   "metadata": {},
   "source": [
    "## Define Sales schema, create Sales records"
   ]
  },
  {
   "cell_type": "code",
   "execution_count": 9,
   "id": "de13a7ce-697c-46a2-a8ab-5a7229f3510e",
   "metadata": {
    "execution": {
     "iopub.execute_input": "2022-10-29T11:12:51.869985Z",
     "iopub.status.busy": "2022-10-29T11:12:51.869788Z",
     "iopub.status.idle": "2022-10-29T11:12:52.620007Z",
     "shell.execute_reply": "2022-10-29T11:12:52.619397Z",
     "shell.execute_reply.started": "2022-10-29T11:12:51.869964Z"
    },
    "tags": []
   },
   "outputs": [
    {
     "data": {
      "application/vnd.jupyter.widget-view+json": {
       "model_id": "65397efe864144d5a349110719122ca2",
       "version_major": 2,
       "version_minor": 0
      },
      "text/plain": [
       "VBox()"
      ]
     },
     "metadata": {},
     "output_type": "display_data"
    },
    {
     "data": {
      "application/vnd.jupyter.widget-view+json": {
       "model_id": "",
       "version_major": 2,
       "version_minor": 0
      },
      "text/plain": [
       "FloatProgress(value=0.0, bar_style='info', description='Progress:', layout=Layout(height='25px', width='50%'),…"
      ]
     },
     "metadata": {},
     "output_type": "display_data"
    },
    {
     "name": "stdout",
     "output_type": "stream",
     "text": [
      "+-------+--------+------+-------------------+-----------+\n",
      "|item_id|quantity| price|          timestamp|customer_id|\n",
      "+-------+--------+------+-------------------+-----------+\n",
      "|    100|      25|123.46|2020-11-17 09:15:32|          1|\n",
      "|    101|     300|123.46|2020-10-28 09:15:32|          1|\n",
      "|    102|       5|1038.0|2020-12-08 09:15:32|          2|\n",
      "+-------+--------+------+-------------------+-----------+"
     ]
    }
   ],
   "source": [
    "from pyspark.sql.functions import to_timestamp\n",
    "\n",
    "sales_schema = StructType([\n",
    "        StructField('item_id', StringType(), True),\n",
    "        StructField('quantity', IntegerType(), True),\n",
    "        StructField('price', DoubleType(), True),\n",
    "        StructField('timestamp', TimestampType(), True),\n",
    "        StructField('customer_id', StringType(), True)\n",
    "    ])\n",
    "\n",
    "sales_df = spark.createDataFrame([('100', 25, 123.46, datetime.strptime('2020-11-17 09:15:32', '%Y-%m-%d %H:%M:%S'), '1'),\n",
    "                                       ('101', 300, 123.46, datetime.strptime('2020-10-28 09:15:32', '%Y-%m-%d %H:%M:%S'), '1'),\n",
    "                                      ('102', 5, 1038.0, datetime.strptime('2020-12-08 09:15:32', '%Y-%m-%d %H:%M:%S'), '2')], sales_schema)\n",
    "\n",
    "sales_df.show()"
   ]
  },
  {
   "cell_type": "markdown",
   "id": "171eb258-a54d-4d58-8dc2-ae6906b07b0c",
   "metadata": {},
   "source": [
    "## Identify Customer surrogate key"
   ]
  },
  {
   "cell_type": "code",
   "execution_count": 10,
   "id": "f32fb3b0-7f1a-4167-b24d-53020634a6b5",
   "metadata": {
    "execution": {
     "iopub.execute_input": "2022-10-29T11:16:19.746740Z",
     "iopub.status.busy": "2022-10-29T11:16:19.746536Z",
     "iopub.status.idle": "2022-10-29T11:16:29.025907Z",
     "shell.execute_reply": "2022-10-29T11:16:29.025482Z",
     "shell.execute_reply.started": "2022-10-29T11:16:19.746718Z"
    },
    "tags": []
   },
   "outputs": [
    {
     "data": {
      "application/vnd.jupyter.widget-view+json": {
       "model_id": "3c1d2c06c0274ccaa40f1c893d29527a",
       "version_major": 2,
       "version_minor": 0
      },
      "text/plain": [
       "VBox()"
      ]
     },
     "metadata": {},
     "output_type": "display_data"
    },
    {
     "data": {
      "application/vnd.jupyter.widget-view+json": {
       "model_id": "",
       "version_major": 2,
       "version_minor": 0
      },
      "text/plain": [
       "FloatProgress(value=0.0, bar_style='info', description='Progress:', layout=Layout(height='25px', width='50%'),…"
      ]
     },
     "metadata": {},
     "output_type": "display_data"
    },
    {
     "name": "stdout",
     "output_type": "stream",
     "text": [
      "+-------+--------+------+-------------------+-----------+----------------+\n",
      "|item_id|quantity| price|          timestamp|customer_id|     customer_sk|\n",
      "+-------+--------+------+-------------------+-----------+----------------+\n",
      "|    100|      25|123.46|2020-11-17 09:15:32|          1|1667041876044190|\n",
      "|    101|     300|123.46|2020-10-28 09:15:32|          1|1667041876044190|\n",
      "|    102|       5|1038.0|2020-12-08 09:15:32|          2|1667041876947966|\n",
      "+-------+--------+------+-------------------+-----------+----------------+"
     ]
    }
   ],
   "source": [
    "from pyspark.sql.functions import when\n",
    "\n",
    "join_cond = [sales_df.customer_id == customer_sk_df.customer_id,\n",
    "             sales_df.timestamp >= customer_sk_df.eff_start_date,\n",
    "             sales_df.timestamp < customer_sk_df.eff_end_date]\n",
    "\n",
    "sales_with_cust_sk_df = (sales_df\n",
    "                          .join(customer_sk_df, join_cond, 'leftouter')\n",
    "                          .select(sales_df['*'],\n",
    "                            when(customer_sk_df.customer_sk.isNull(), '-1')\n",
    "                                  .otherwise(customer_sk_df.customer_sk)\n",
    "                                  .alias(\"customer_sk\") )\n",
    "                       )\n",
    "\n",
    "sales_with_cust_sk_df.show()"
   ]
  },
  {
   "cell_type": "markdown",
   "id": "16bca2d1-6f47-4b2d-943a-ace542082471",
   "metadata": {},
   "source": [
    "## Write Sales records"
   ]
  },
  {
   "cell_type": "code",
   "execution_count": 11,
   "id": "fe957265-fecd-485b-bafa-acac2e442778",
   "metadata": {
    "execution": {
     "iopub.execute_input": "2022-10-29T11:17:22.371070Z",
     "iopub.status.busy": "2022-10-29T11:17:22.370873Z",
     "iopub.status.idle": "2022-10-29T11:17:24.626404Z",
     "shell.execute_reply": "2022-10-29T11:17:24.625878Z",
     "shell.execute_reply.started": "2022-10-29T11:17:22.371049Z"
    },
    "tags": []
   },
   "outputs": [
    {
     "data": {
      "application/vnd.jupyter.widget-view+json": {
       "model_id": "6b8baabe679943e9bad4dc5993b31601",
       "version_major": 2,
       "version_minor": 0
      },
      "text/plain": [
       "VBox()"
      ]
     },
     "metadata": {},
     "output_type": "display_data"
    },
    {
     "data": {
      "application/vnd.jupyter.widget-view+json": {
       "model_id": "",
       "version_major": 2,
       "version_minor": 0
      },
      "text/plain": [
       "FloatProgress(value=0.0, bar_style='info', description='Progress:', layout=Layout(height='25px', width='50%'),…"
      ]
     },
     "metadata": {},
     "output_type": "display_data"
    }
   ],
   "source": [
    "sales_table_path = 's3://646297494209-us-east-1-modern-data-lake-storage/sales/'\n",
    "sales_table_name = 'sales_table'\n",
    "\n",
    "sales_with_cust_sk_df.write.format('parquet')\\\n",
    "                             .mode('Overwrite')\\\n",
    "                             .save(sales_table_path)"
   ]
  },
  {
   "cell_type": "markdown",
   "id": "846f6cbc-1984-4166-80ec-4c0fbbb6f78f",
   "metadata": {},
   "source": [
    "## Read Sales records"
   ]
  },
  {
   "cell_type": "code",
   "execution_count": 12,
   "id": "a0540bed-eb7d-4dd1-a9c6-12d1579930bf",
   "metadata": {
    "execution": {
     "iopub.execute_input": "2022-10-29T11:19:28.157624Z",
     "iopub.status.busy": "2022-10-29T11:19:28.157411Z",
     "iopub.status.idle": "2022-10-29T11:19:35.425502Z",
     "shell.execute_reply": "2022-10-29T11:19:35.425060Z",
     "shell.execute_reply.started": "2022-10-29T11:19:28.157602Z"
    },
    "tags": []
   },
   "outputs": [
    {
     "data": {
      "application/vnd.jupyter.widget-view+json": {
       "model_id": "358f2aa99ee943d28c0844bf5e4385fc",
       "version_major": 2,
       "version_minor": 0
      },
      "text/plain": [
       "VBox()"
      ]
     },
     "metadata": {},
     "output_type": "display_data"
    },
    {
     "data": {
      "application/vnd.jupyter.widget-view+json": {
       "model_id": "",
       "version_major": 2,
       "version_minor": 0
      },
      "text/plain": [
       "FloatProgress(value=0.0, bar_style='info', description='Progress:', layout=Layout(height='25px', width='50%'),…"
      ]
     },
     "metadata": {},
     "output_type": "display_data"
    },
    {
     "name": "stdout",
     "output_type": "stream",
     "text": [
      "+-------+--------+------+-------------------+-----------+----------------+\n",
      "|item_id|quantity|price |timestamp          |customer_id|customer_sk     |\n",
      "+-------+--------+------+-------------------+-----------+----------------+\n",
      "|100    |25      |123.46|2020-11-17 09:15:32|1          |1667041876044190|\n",
      "|101    |300     |123.46|2020-10-28 09:15:32|1          |1667041876044190|\n",
      "|102    |5       |1038.0|2020-12-08 09:15:32|2          |1667041876947966|\n",
      "+-------+--------+------+-------------------+-----------+----------------+"
     ]
    }
   ],
   "source": [
    "sales_with_cust_sk_df = spark. \\\n",
    "  read. \\\n",
    "  load(sales_table_path)\n",
    "\n",
    "sales_with_cust_sk_df.createOrReplaceTempView(sales_table_name)\n",
    "\n",
    "spark.sql('select item_id, '\n",
    "          'quantity,'\n",
    "          'price,'\n",
    "          'timestamp,'\n",
    "          'customer_id,'\n",
    "          'customer_sk from ' + sales_table_name).show(5, False)"
   ]
  },
  {
   "cell_type": "markdown",
   "id": "939487f0-4440-40bd-8e9d-81c96120cb84",
   "metadata": {},
   "source": [
    "## Sales by Country"
   ]
  },
  {
   "cell_type": "code",
   "execution_count": 13,
   "id": "77c222d1-05c1-4bf5-84f8-481f9b1e90ee",
   "metadata": {
    "execution": {
     "iopub.execute_input": "2022-10-29T11:21:28.482683Z",
     "iopub.status.busy": "2022-10-29T11:21:28.482485Z",
     "iopub.status.idle": "2022-10-29T11:21:37.759264Z",
     "shell.execute_reply": "2022-10-29T11:21:37.758681Z",
     "shell.execute_reply.started": "2022-10-29T11:21:28.482664Z"
    },
    "tags": []
   },
   "outputs": [
    {
     "data": {
      "application/vnd.jupyter.widget-view+json": {
       "model_id": "b1eee469051f46cd883e1fb3d2f5b944",
       "version_major": 2,
       "version_minor": 0
      },
      "text/plain": [
       "VBox()"
      ]
     },
     "metadata": {},
     "output_type": "display_data"
    },
    {
     "data": {
      "application/vnd.jupyter.widget-view+json": {
       "model_id": "",
       "version_major": 2,
       "version_minor": 0
      },
      "text/plain": [
       "FloatProgress(value=0.0, bar_style='info', description='Progress:', layout=Layout(height='25px', width='50%'),…"
      ]
     },
     "metadata": {},
     "output_type": "display_data"
    },
    {
     "name": "stdout",
     "output_type": "stream",
     "text": [
      "+-------+--------------+-----------+\n",
      "|country|sales_quantity|count_sales|\n",
      "+-------+--------------+-----------+\n",
      "|     US|             5|          1|\n",
      "|     UK|           325|          2|\n",
      "+-------+--------------+-----------+"
     ]
    }
   ],
   "source": [
    "spark.sql(\n",
    "    'SELECT ct.country, '\n",
    "    'SUM(st.quantity) as sales_quantity,'\n",
    "    'COUNT(*) as count_sales '\n",
    "    'FROM sales_table st '\n",
    "    'INNER JOIN customers_table ct on st.customer_sk = ct.customer_sk '\n",
    "    'group by ct.country').show()"
   ]
  },
  {
   "cell_type": "markdown",
   "id": "0307030d-61db-48e2-a396-158d5a79c22a",
   "metadata": {},
   "source": [
    "## New/Updated Customer records"
   ]
  },
  {
   "cell_type": "code",
   "execution_count": 14,
   "id": "ce108e62-1ae1-4f6b-ac98-6f66e6d1fd6f",
   "metadata": {
    "execution": {
     "iopub.execute_input": "2022-10-29T11:22:48.270880Z",
     "iopub.status.busy": "2022-10-29T11:22:48.270675Z",
     "iopub.status.idle": "2022-10-29T11:22:55.542299Z",
     "shell.execute_reply": "2022-10-29T11:22:55.541857Z",
     "shell.execute_reply.started": "2022-10-29T11:22:48.270856Z"
    },
    "tags": []
   },
   "outputs": [
    {
     "data": {
      "application/vnd.jupyter.widget-view+json": {
       "model_id": "5d0a208b47ef47888af355b93d2facc5",
       "version_major": 2,
       "version_minor": 0
      },
      "text/plain": [
       "VBox()"
      ]
     },
     "metadata": {},
     "output_type": "display_data"
    },
    {
     "data": {
      "application/vnd.jupyter.widget-view+json": {
       "model_id": "",
       "version_major": 2,
       "version_minor": 0
      },
      "text/plain": [
       "FloatProgress(value=0.0, bar_style='info', description='Progress:', layout=Layout(height='25px', width='50%'),…"
      ]
     },
     "metadata": {},
     "output_type": "display_data"
    },
    {
     "name": "stdout",
     "output_type": "stream",
     "text": [
      "+-----------+----------+---------+------+-------+--------------+------------+-------------------+----------+----------------+\n",
      "|customer_id|first_name|last_name|  city|country|eff_start_date|eff_end_date|          timestamp|is_current|     customer_sk|\n",
      "+-----------+----------+---------+------+-------+--------------+------------+-------------------+----------+----------------+\n",
      "|          3|   Bastian|     Back|Berlin|     GE|    2022-10-29|  2999-12-31|2020-12-09 09:15:32|      true|1667042573856711|\n",
      "|          2|     Susan|     Chas| Paris|     FR|    2022-10-29|  2999-12-31|2020-12-09 10:15:32|      true|1667042574223601|\n",
      "+-----------+----------+---------+------+-------+--------------+------------+-------------------+----------+----------------+"
     ]
    }
   ],
   "source": [
    "new_customer_df = spark.createDataFrame([('3', 'Bastian', 'Back', \n",
    "                    'Berlin', 'GE',\n",
    "                    datetime.strptime(datetime.today().strftime('%Y-%m-%d'), '%Y-%m-%d'),\n",
    "                    datetime.strptime('2999-12-31', '%Y-%m-%d'), \n",
    "                    datetime.strptime('2020-12-09 09:15:32', '%Y-%m-%d %H:%M:%S'), True),\n",
    "                    ('2', 'Susan', 'Chas',\n",
    "                    'Paris', 'FR',\n",
    "                    datetime.strptime(datetime.today().strftime('%Y-%m-%d'), '%Y-%m-%d'),\n",
    "                    datetime.strptime('2999-12-31', '%Y-%m-%d'), \n",
    "                    datetime.strptime('2020-12-09 10:15:32', '%Y-%m-%d %H:%M:%S'), True)],\n",
    "                customer_schema)\n",
    "\n",
    "new_customer_df = new_customer_df.withColumn(\"customer_sk\", random_udf())\n",
    "new_customer_df.cache()\n",
    "new_customer_df.show()"
   ]
  },
  {
   "cell_type": "markdown",
   "id": "771e05c6-9de3-42c1-aa53-ec24f9be302b",
   "metadata": {},
   "source": [
    "## Update Customers"
   ]
  },
  {
   "cell_type": "code",
   "execution_count": 16,
   "id": "05fb32ee-d67d-404e-bc26-af840a6812f0",
   "metadata": {
    "execution": {
     "iopub.execute_input": "2022-10-29T11:28:30.277798Z",
     "iopub.status.busy": "2022-10-29T11:28:30.277594Z",
     "iopub.status.idle": "2022-10-29T11:28:43.568178Z",
     "shell.execute_reply": "2022-10-29T11:28:43.567741Z",
     "shell.execute_reply.started": "2022-10-29T11:28:30.277775Z"
    },
    "tags": []
   },
   "outputs": [
    {
     "data": {
      "application/vnd.jupyter.widget-view+json": {
       "model_id": "86829e0c02bb432590cbc6043a8b166b",
       "version_major": 2,
       "version_minor": 0
      },
      "text/plain": [
       "VBox()"
      ]
     },
     "metadata": {},
     "output_type": "display_data"
    },
    {
     "data": {
      "application/vnd.jupyter.widget-view+json": {
       "model_id": "",
       "version_major": 2,
       "version_minor": 0
      },
      "text/plain": [
       "FloatProgress(value=0.0, bar_style='info', description='Progress:', layout=Layout(height='25px', width='50%'),…"
      ]
     },
     "metadata": {},
     "output_type": "display_data"
    }
   ],
   "source": [
    "from pyspark.sql.functions import lit\n",
    "\n",
    "join_cond = [customer_sk_df.customer_id == new_customer_df.customer_id, customer_sk_df.is_current == True]\n",
    "\n",
    "## Find customer records to update\n",
    "customers_to_update_df = (customer_sk_df\n",
    "                          .join(new_customer_df, join_cond)\n",
    "                          .select(customer_sk_df.customer_id,\n",
    "                                  customer_sk_df.first_name,\n",
    "                                  customer_sk_df.last_name,\n",
    "                                  customer_sk_df.city,\n",
    "                                  customer_sk_df.country,\n",
    "                                  customer_sk_df.eff_start_date,\n",
    "                                  new_customer_df.eff_start_date.alias(\"eff_end_date\"),\n",
    "                                  customer_sk_df.customer_sk,\n",
    "                                  customer_sk_df.timestamp)\n",
    "                          .withColumn('is_current', lit(False))\n",
    "                         )\n",
    "\n",
    "\n",
    "## Union with new customer records\n",
    "merged_customers_df = new_customer_df.unionByName(customers_to_update_df)\n",
    "\n",
    "record_key = 'customer_sk'\n",
    "partition_key = \"country\"\n",
    "\n",
    "# Upsert\n",
    "merged_customers_df.write.format('org.apache.hudi')\\\n",
    "                    .options(**hudi_options)\\\n",
    "                    .option('hoodie.table.name',customers_table_name)\\\n",
    "                    .option('hoodie.datasource.write.recordkey.field', record_key)\\\n",
    "                    .option('hoodie.datasource.write.partitionpath.field',partition_key)\\\n",
    "                    .option('hoodie.datasource.write.precombine.field','timestamp')\\\n",
    "                    .option('hoodie.datasource.write.operation', 'upsert')\\\n",
    "                    .option('hoodie.datasource.hive_sync.table',customers_table_name)\\\n",
    "                    .mode('append')\\\n",
    "                    .save(customers_table_path)"
   ]
  },
  {
   "cell_type": "code",
   "execution_count": 17,
   "id": "0b179a33-6107-4329-b27a-d353bf0aab2e",
   "metadata": {
    "execution": {
     "iopub.execute_input": "2022-10-29T11:29:17.294614Z",
     "iopub.status.busy": "2022-10-29T11:29:17.294403Z",
     "iopub.status.idle": "2022-10-29T11:29:19.552509Z",
     "shell.execute_reply": "2022-10-29T11:29:19.552034Z",
     "shell.execute_reply.started": "2022-10-29T11:29:17.294591Z"
    },
    "tags": []
   },
   "outputs": [
    {
     "data": {
      "application/vnd.jupyter.widget-view+json": {
       "model_id": "cdd0597e144f43418fdc6ee60e65945d",
       "version_major": 2,
       "version_minor": 0
      },
      "text/plain": [
       "VBox()"
      ]
     },
     "metadata": {},
     "output_type": "display_data"
    },
    {
     "data": {
      "application/vnd.jupyter.widget-view+json": {
       "model_id": "",
       "version_major": 2,
       "version_minor": 0
      },
      "text/plain": [
       "FloatProgress(value=0.0, bar_style='info', description='Progress:', layout=Layout(height='25px', width='50%'),…"
      ]
     },
     "metadata": {},
     "output_type": "display_data"
    },
    {
     "name": "stdout",
     "output_type": "stream",
     "text": [
      "+-----------+----------+---------+-------+-------+--------------+------------+----------------+----------+\n",
      "|customer_id|first_name|last_name|   city|country|eff_start_date|eff_end_date|     customer_sk|is_current|\n",
      "+-----------+----------+---------+-------+-------+--------------+------------+----------------+----------+\n",
      "|          3|   Bastian|     Back| Berlin|     GE|    2022-10-29|  2999-12-31|1667042573856711|      true|\n",
      "|          2|     Susan|     Chas|Seattle|     US|    2020-10-14|  2022-10-29|1667041876947966|     false|\n",
      "|          2|     Susan|     Chas|  Paris|     FR|    2022-10-29|  2999-12-31|1667042574223601|      true|\n",
      "|          1|      John|    Smith| London|     UK|    2020-09-27|  2999-12-31|1667041876044190|      true|\n",
      "+-----------+----------+---------+-------+-------+--------------+------------+----------------+----------+"
     ]
    }
   ],
   "source": [
    "customer_sk_df = spark. \\\n",
    "  read. \\\n",
    "  format(\"hudi\"). \\\n",
    "  load(customers_table_path)\n",
    "\n",
    "customer_sk_df.createOrReplaceTempView(customers_table_name)\n",
    "\n",
    "spark.sql('select customer_id,'\n",
    "          'first_name, '\n",
    "          'last_name, '\n",
    "          'city, '\n",
    "          'country, '\n",
    "          'eff_start_date, '\n",
    "          'eff_end_date, '\n",
    "          'customer_sk, '\n",
    "          'is_current '\n",
    "          'from ' + customers_table_name).show()"
   ]
  },
  {
   "cell_type": "code",
   "execution_count": 18,
   "id": "3eb3f56b-5c02-40f5-b72e-3e97da1dce4d",
   "metadata": {
    "execution": {
     "iopub.execute_input": "2022-10-29T11:29:49.323760Z",
     "iopub.status.busy": "2022-10-29T11:29:49.323546Z",
     "iopub.status.idle": "2022-10-29T11:29:50.072462Z",
     "shell.execute_reply": "2022-10-29T11:29:50.071985Z",
     "shell.execute_reply.started": "2022-10-29T11:29:49.323739Z"
    },
    "tags": []
   },
   "outputs": [
    {
     "data": {
      "application/vnd.jupyter.widget-view+json": {
       "model_id": "8b77f33390184661a7c289e60eda0da1",
       "version_major": 2,
       "version_minor": 0
      },
      "text/plain": [
       "VBox()"
      ]
     },
     "metadata": {},
     "output_type": "display_data"
    },
    {
     "data": {
      "application/vnd.jupyter.widget-view+json": {
       "model_id": "",
       "version_major": 2,
       "version_minor": 0
      },
      "text/plain": [
       "FloatProgress(value=0.0, bar_style='info', description='Progress:', layout=Layout(height='25px', width='50%'),…"
      ]
     },
     "metadata": {},
     "output_type": "display_data"
    },
    {
     "name": "stdout",
     "output_type": "stream",
     "text": [
      "+-------+--------+------+-------------------+-----------+\n",
      "|item_id|quantity| price|          timestamp|customer_id|\n",
      "+-------+--------+------+-------------------+-----------+\n",
      "|    103|     250|  12.3|2022-10-29 12:15:42|          2|\n",
      "|    104|       3|1021.0|2022-10-29 06:35:32|          2|\n",
      "+-------+--------+------+-------------------+-----------+"
     ]
    }
   ],
   "source": [
    "sales_df = spark.createDataFrame([('103', 250, 12.3, datetime.strptime(datetime.today().strftime('%Y-%m-%d')+' 12:15:42', '%Y-%m-%d %H:%M:%S'), '2'),\n",
    "                                       ('104', 3, 1021.0, datetime.strptime(datetime.today().strftime('%Y-%m-%d')+' 06:35:32', '%Y-%m-%d %H:%M:%S'), '2')], sales_schema)\n",
    "\n",
    "sales_df.show()"
   ]
  },
  {
   "cell_type": "code",
   "execution_count": 19,
   "id": "396b5f8a-0272-4ed1-95dd-3faa35bbf9e5",
   "metadata": {
    "execution": {
     "iopub.execute_input": "2022-10-29T11:32:13.563885Z",
     "iopub.status.busy": "2022-10-29T11:32:13.563684Z",
     "iopub.status.idle": "2022-10-29T11:32:22.842916Z",
     "shell.execute_reply": "2022-10-29T11:32:22.842465Z",
     "shell.execute_reply.started": "2022-10-29T11:32:13.563865Z"
    },
    "tags": []
   },
   "outputs": [
    {
     "data": {
      "application/vnd.jupyter.widget-view+json": {
       "model_id": "14595687f8514a228f3109b53f6d9568",
       "version_major": 2,
       "version_minor": 0
      },
      "text/plain": [
       "VBox()"
      ]
     },
     "metadata": {},
     "output_type": "display_data"
    },
    {
     "data": {
      "application/vnd.jupyter.widget-view+json": {
       "model_id": "",
       "version_major": 2,
       "version_minor": 0
      },
      "text/plain": [
       "FloatProgress(value=0.0, bar_style='info', description='Progress:', layout=Layout(height='25px', width='50%'),…"
      ]
     },
     "metadata": {},
     "output_type": "display_data"
    },
    {
     "name": "stdout",
     "output_type": "stream",
     "text": [
      "+-------+--------+------+-------------------+-----------+----------------+\n",
      "|item_id|quantity| price|          timestamp|customer_id|     customer_sk|\n",
      "+-------+--------+------+-------------------+-----------+----------------+\n",
      "|    103|     250|  12.3|2022-10-29 12:15:42|          2|1667042574223601|\n",
      "|    104|       3|1021.0|2022-10-29 06:35:32|          2|1667042574223601|\n",
      "+-------+--------+------+-------------------+-----------+----------------+"
     ]
    }
   ],
   "source": [
    "from pyspark.sql.functions import when\n",
    "\n",
    "join_cond = [sales_df.customer_id == customer_sk_df.customer_id, sales_df.timestamp >= customer_sk_df.eff_start_date, sales_df.timestamp < customer_sk_df.eff_end_date]\n",
    "\n",
    "\n",
    "sales_with_cust_sk_df = (sales_df\n",
    "                          .join(customer_sk_df, join_cond, 'leftouter')\n",
    "                          .select(sales_df['*'],\n",
    "                            when(customer_sk_df.customer_sk.isNull(), '-1').otherwise(customer_sk_df.customer_sk).alias(\"customer_sk\") )\n",
    "                         )\n",
    "\n",
    "sales_with_cust_sk_df.show()"
   ]
  },
  {
   "cell_type": "code",
   "execution_count": 20,
   "id": "906d318b-33fb-4968-8dcc-8adb1696b624",
   "metadata": {
    "execution": {
     "iopub.execute_input": "2022-10-29T11:35:55.637782Z",
     "iopub.status.busy": "2022-10-29T11:35:55.637576Z",
     "iopub.status.idle": "2022-10-29T11:36:04.910162Z",
     "shell.execute_reply": "2022-10-29T11:36:04.909690Z",
     "shell.execute_reply.started": "2022-10-29T11:35:55.637761Z"
    },
    "tags": []
   },
   "outputs": [
    {
     "data": {
      "application/vnd.jupyter.widget-view+json": {
       "model_id": "c891e0119382434cb87e5023c9b66eca",
       "version_major": 2,
       "version_minor": 0
      },
      "text/plain": [
       "VBox()"
      ]
     },
     "metadata": {},
     "output_type": "display_data"
    },
    {
     "data": {
      "application/vnd.jupyter.widget-view+json": {
       "model_id": "",
       "version_major": 2,
       "version_minor": 0
      },
      "text/plain": [
       "FloatProgress(value=0.0, bar_style='info', description='Progress:', layout=Layout(height='25px', width='50%'),…"
      ]
     },
     "metadata": {},
     "output_type": "display_data"
    }
   ],
   "source": [
    "sales_table_path = 's3://646297494209-us-east-1-modern-data-lake-storage/sales/'\n",
    "sales_table_name = 'sales_table'\n",
    "\n",
    "sales_with_cust_sk_df.write.format('parquet')\\\n",
    "                             .mode('Append')\\\n",
    "                             .save(sales_table_path)"
   ]
  },
  {
   "cell_type": "code",
   "execution_count": 21,
   "id": "920be5b1-ffb9-4a99-9abe-bf976cec650e",
   "metadata": {
    "execution": {
     "iopub.execute_input": "2022-10-29T11:36:24.806437Z",
     "iopub.status.busy": "2022-10-29T11:36:24.806239Z",
     "iopub.status.idle": "2022-10-29T11:36:26.065599Z",
     "shell.execute_reply": "2022-10-29T11:36:26.065140Z",
     "shell.execute_reply.started": "2022-10-29T11:36:24.806415Z"
    },
    "tags": []
   },
   "outputs": [
    {
     "data": {
      "application/vnd.jupyter.widget-view+json": {
       "model_id": "0d0f7fdfd4aa4138b165218b5c914449",
       "version_major": 2,
       "version_minor": 0
      },
      "text/plain": [
       "VBox()"
      ]
     },
     "metadata": {},
     "output_type": "display_data"
    },
    {
     "data": {
      "application/vnd.jupyter.widget-view+json": {
       "model_id": "",
       "version_major": 2,
       "version_minor": 0
      },
      "text/plain": [
       "FloatProgress(value=0.0, bar_style='info', description='Progress:', layout=Layout(height='25px', width='50%'),…"
      ]
     },
     "metadata": {},
     "output_type": "display_data"
    },
    {
     "name": "stdout",
     "output_type": "stream",
     "text": [
      "+-------+--------+------+-------------------+-----------+----------------+\n",
      "|item_id|quantity|price |timestamp          |customer_id|customer_sk     |\n",
      "+-------+--------+------+-------------------+-----------+----------------+\n",
      "|100    |25      |123.46|2020-11-17 09:15:32|1          |1667041876044190|\n",
      "|103    |250     |12.3  |2022-10-29 12:15:42|2          |1667042574223601|\n",
      "|101    |300     |123.46|2020-10-28 09:15:32|1          |1667041876044190|\n",
      "|104    |3       |1021.0|2022-10-29 06:35:32|2          |1667042574223601|\n",
      "|102    |5       |1038.0|2020-12-08 09:15:32|2          |1667041876947966|\n",
      "+-------+--------+------+-------------------+-----------+----------------+"
     ]
    }
   ],
   "source": [
    "sales_with_cust_sk_df = spark. \\\n",
    "  read. \\\n",
    "  load(sales_table_path)\n",
    "\n",
    "sales_with_cust_sk_df.createOrReplaceTempView(sales_table_name)\n",
    "\n",
    "spark.sql(\"select item_id, quantity, price, timestamp, customer_id, customer_sk from \" + sales_table_name).show(5, False)"
   ]
  },
  {
   "cell_type": "code",
   "execution_count": 22,
   "id": "54378aa8-a3b1-444a-8cfe-ae10c5743029",
   "metadata": {
    "execution": {
     "iopub.execute_input": "2022-10-29T11:37:34.053841Z",
     "iopub.status.busy": "2022-10-29T11:37:34.053636Z",
     "iopub.status.idle": "2022-10-29T11:37:43.326506Z",
     "shell.execute_reply": "2022-10-29T11:37:43.326063Z",
     "shell.execute_reply.started": "2022-10-29T11:37:34.053820Z"
    },
    "tags": []
   },
   "outputs": [
    {
     "data": {
      "application/vnd.jupyter.widget-view+json": {
       "model_id": "1440142fd0724059b09b8f21356d8f97",
       "version_major": 2,
       "version_minor": 0
      },
      "text/plain": [
       "VBox()"
      ]
     },
     "metadata": {},
     "output_type": "display_data"
    },
    {
     "data": {
      "application/vnd.jupyter.widget-view+json": {
       "model_id": "",
       "version_major": 2,
       "version_minor": 0
      },
      "text/plain": [
       "FloatProgress(value=0.0, bar_style='info', description='Progress:', layout=Layout(height='25px', width='50%'),…"
      ]
     },
     "metadata": {},
     "output_type": "display_data"
    },
    {
     "name": "stdout",
     "output_type": "stream",
     "text": [
      "+-------+--------------+-----------+\n",
      "|country|sales_quantity|count_sales|\n",
      "+-------+--------------+-----------+\n",
      "|     US|             5|          1|\n",
      "|     UK|           325|          2|\n",
      "|     FR|           253|          2|\n",
      "+-------+--------------+-----------+"
     ]
    }
   ],
   "source": [
    "spark.sql(\n",
    "    'SELECT ct.country, SUM(st.quantity) as sales_quantity, COUNT(*) as count_sales '\n",
    "    'FROM sales_table st '\n",
    "    'INNER JOIN customers_table ct on st.customer_sk = ct.customer_sk group by ct.country').show()"
   ]
  },
  {
   "cell_type": "code",
   "execution_count": null,
   "id": "2af608ab-8c33-4832-b3e2-422aedec7406",
   "metadata": {},
   "outputs": [],
   "source": []
  }
 ],
 "metadata": {
  "kernelspec": {
   "display_name": "PySpark",
   "language": "",
   "name": "pysparkkernel"
  },
  "language_info": {
   "codemirror_mode": {
    "name": "python",
    "version": 3
   },
   "mimetype": "text/x-python",
   "name": "pyspark",
   "pygments_lexer": "python3"
  }
 },
 "nbformat": 4,
 "nbformat_minor": 5
}
