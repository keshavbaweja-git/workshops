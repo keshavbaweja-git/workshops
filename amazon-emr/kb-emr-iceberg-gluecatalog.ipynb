{
 "cells": [
  {
   "cell_type": "code",
   "execution_count": 3,
   "id": "b69c5bff-6454-4efe-b0f4-1cba6edb3058",
   "metadata": {
    "execution": {
     "iopub.execute_input": "2022-11-05T10:57:15.647934Z",
     "iopub.status.busy": "2022-11-05T10:57:15.647736Z",
     "iopub.status.idle": "2022-11-05T10:57:15.656022Z",
     "shell.execute_reply": "2022-11-05T10:57:15.655594Z",
     "shell.execute_reply.started": "2022-11-05T10:57:15.647912Z"
    },
    "tags": []
   },
   "outputs": [
    {
     "data": {
      "text/html": [
       "Current session configs: <tt>{'conf': {'spark.jars': 'hdfs:///apps/iceberg/lib/iceberg-spark3-runtime.jar', 'spark.sql.catalog.glue_catalog1': 'org.apache.iceberg.spark.SparkCatalog', 'spark.sql.catalog.glue_catalog1.warehouse': 's3://646297494209-us-east-1-modern-data-lake-storage/iceberg/glue_catalog1/tables/', 'spark.sql.catalog.glue_catalog1.catalog-impl': 'org.apache.iceberg.aws.glue.GlueCatalog', 'spark.sql.catalog.glue_catalog1.io-impl': 'org.apache.iceberg.aws.s3.S3FileIO', 'spark.sql.catalog.glue_catalog1.lock-impl': 'org.apache.iceberg.aws.glue.DynamoLockManager', 'spark.sql.catalog.glue_catalog1.lock.table': 'myGlueLockTable', 'spark.sql.extensions': 'org.apache.iceberg.spark.extensions.IcebergSparkSessionExtensions'}, 'proxyUser': 'user_admin1', 'kind': 'pyspark'}</tt><br>"
      ],
      "text/plain": [
       "<IPython.core.display.HTML object>"
      ]
     },
     "metadata": {},
     "output_type": "display_data"
    },
    {
     "data": {
      "text/html": [
       "No active sessions."
      ],
      "text/plain": [
       "<IPython.core.display.HTML object>"
      ]
     },
     "metadata": {},
     "output_type": "display_data"
    }
   ],
   "source": [
    "%%configure -f\n",
    "{\n",
    "    \"conf\":  {\n",
    "             \"spark.jars\": \"hdfs:///apps/iceberg/lib/iceberg-spark3-runtime.jar\",\n",
    "             \"spark.sql.catalog.glue_catalog1\": \"org.apache.iceberg.spark.SparkCatalog\",\n",
    "             \"spark.sql.catalog.glue_catalog1.warehouse\": \"s3://646297494209-us-east-1-modern-data-lake-storage/iceberg/glue_catalog1/tables/\",\n",
    "             \"spark.sql.catalog.glue_catalog1.catalog-impl\": \"org.apache.iceberg.aws.glue.GlueCatalog\",\n",
    "             \"spark.sql.catalog.glue_catalog1.io-impl\": \"org.apache.iceberg.aws.s3.S3FileIO\",\n",
    "             \"spark.sql.catalog.glue_catalog1.lock-impl\": \"org.apache.iceberg.aws.glue.DynamoLockManager\",\n",
    "             \"spark.sql.catalog.glue_catalog1.lock.table\": \"myGlueLockTable\",\n",
    "             \"spark.sql.extensions\": \"org.apache.iceberg.spark.extensions.IcebergSparkSessionExtensions\"\n",
    "           } \n",
    "}"
   ]
  },
  {
   "cell_type": "code",
   "execution_count": 6,
   "id": "c6e25b23-7f47-4012-b15f-a24082b84c52",
   "metadata": {
    "execution": {
     "iopub.execute_input": "2022-11-05T10:59:54.424106Z",
     "iopub.status.busy": "2022-11-05T10:59:54.423908Z",
     "iopub.status.idle": "2022-11-05T11:00:05.757522Z",
     "shell.execute_reply": "2022-11-05T11:00:05.757099Z",
     "shell.execute_reply.started": "2022-11-05T10:59:54.424084Z"
    },
    "tags": []
   },
   "outputs": [
    {
     "data": {
      "application/vnd.jupyter.widget-view+json": {
       "model_id": "",
       "version_major": 2,
       "version_minor": 0
      },
      "text/plain": [
       "FloatProgress(value=0.0, bar_style='info', description='Progress:', layout=Layout(height='25px', width='50%'),…"
      ]
     },
     "metadata": {},
     "output_type": "display_data"
    },
    {
     "data": {
      "application/vnd.jupyter.widget-view+json": {
       "model_id": "21f09a6f21244c229c2b4bc427c329bb",
       "version_major": 2,
       "version_minor": 0
      },
      "text/plain": [
       "VBox(children=(HBox(), EncodingWidget(children=(VBox(children=(HTML(value='Encoding:'), Dropdown(description='…"
      ]
     },
     "metadata": {},
     "output_type": "display_data"
    },
    {
     "data": {
      "application/vnd.jupyter.widget-view+json": {
       "model_id": "5d9469c3cee542b5a252bdbb1d56724b",
       "version_major": 2,
       "version_minor": 0
      },
      "text/plain": [
       "Output()"
      ]
     },
     "metadata": {},
     "output_type": "display_data"
    }
   ],
   "source": [
    "%%sql\n",
    "use glue_catalog1"
   ]
  },
  {
   "cell_type": "code",
   "execution_count": 12,
   "id": "1186ebde-b506-4c3e-bf5a-51b48843651c",
   "metadata": {
    "execution": {
     "iopub.execute_input": "2022-11-05T11:06:22.047979Z",
     "iopub.status.busy": "2022-11-05T11:06:22.047778Z",
     "iopub.status.idle": "2022-11-05T11:06:22.842252Z",
     "shell.execute_reply": "2022-11-05T11:06:22.841847Z",
     "shell.execute_reply.started": "2022-11-05T11:06:22.047957Z"
    }
   },
   "outputs": [
    {
     "data": {
      "application/vnd.jupyter.widget-view+json": {
       "model_id": "",
       "version_major": 2,
       "version_minor": 0
      },
      "text/plain": [
       "FloatProgress(value=0.0, bar_style='info', description='Progress:', layout=Layout(height='25px', width='50%'),…"
      ]
     },
     "metadata": {},
     "output_type": "display_data"
    },
    {
     "data": {
      "application/vnd.jupyter.widget-view+json": {
       "model_id": "9d0327da2b7840528e1ca9abe006cec2",
       "version_major": 2,
       "version_minor": 0
      },
      "text/plain": [
       "VBox(children=(HBox(), EncodingWidget(children=(VBox(children=(HTML(value='Encoding:'), Dropdown(description='…"
      ]
     },
     "metadata": {},
     "output_type": "display_data"
    },
    {
     "data": {
      "application/vnd.jupyter.widget-view+json": {
       "model_id": "92d7b01331e94a28bcc889a37bc3bf6c",
       "version_major": 2,
       "version_minor": 0
      },
      "text/plain": [
       "Output()"
      ]
     },
     "metadata": {},
     "output_type": "display_data"
    }
   ],
   "source": [
    "%%sql\n",
    "create database glue_catalog1.salesdb"
   ]
  },
  {
   "cell_type": "code",
   "execution_count": 16,
   "id": "204d296e-448f-41aa-a7f7-d650a87aab6f",
   "metadata": {
    "execution": {
     "iopub.execute_input": "2022-11-05T11:10:22.645735Z",
     "iopub.status.busy": "2022-11-05T11:10:22.645507Z",
     "iopub.status.idle": "2022-11-05T11:10:23.942723Z",
     "shell.execute_reply": "2022-11-05T11:10:23.942323Z",
     "shell.execute_reply.started": "2022-11-05T11:10:22.645712Z"
    }
   },
   "outputs": [
    {
     "data": {
      "application/vnd.jupyter.widget-view+json": {
       "model_id": "",
       "version_major": 2,
       "version_minor": 0
      },
      "text/plain": [
       "FloatProgress(value=0.0, bar_style='info', description='Progress:', layout=Layout(height='25px', width='50%'),…"
      ]
     },
     "metadata": {},
     "output_type": "display_data"
    },
    {
     "data": {
      "application/vnd.jupyter.widget-view+json": {
       "model_id": "6274f7f09c544504a00fc8042ec1d1f3",
       "version_major": 2,
       "version_minor": 0
      },
      "text/plain": [
       "VBox(children=(HBox(), EncodingWidget(children=(VBox(children=(HTML(value='Encoding:'), Dropdown(description='…"
      ]
     },
     "metadata": {},
     "output_type": "display_data"
    },
    {
     "data": {
      "application/vnd.jupyter.widget-view+json": {
       "model_id": "ebec90fda5d44c98a1ff52cdf7d955fe",
       "version_major": 2,
       "version_minor": 0
      },
      "text/plain": [
       "Output()"
      ]
     },
     "metadata": {},
     "output_type": "display_data"
    }
   ],
   "source": [
    "%%sql\n",
    "drop table glue_catalog1.salesdb.orders"
   ]
  },
  {
   "cell_type": "code",
   "execution_count": 17,
   "id": "172c92ee-ade8-4283-ba6c-998074a043cd",
   "metadata": {
    "execution": {
     "iopub.execute_input": "2022-11-05T11:11:10.622317Z",
     "iopub.status.busy": "2022-11-05T11:11:10.622112Z",
     "iopub.status.idle": "2022-11-05T11:11:11.924440Z",
     "shell.execute_reply": "2022-11-05T11:11:11.924017Z",
     "shell.execute_reply.started": "2022-11-05T11:11:10.622295Z"
    },
    "tags": []
   },
   "outputs": [
    {
     "data": {
      "application/vnd.jupyter.widget-view+json": {
       "model_id": "",
       "version_major": 2,
       "version_minor": 0
      },
      "text/plain": [
       "FloatProgress(value=0.0, bar_style='info', description='Progress:', layout=Layout(height='25px', width='50%'),…"
      ]
     },
     "metadata": {},
     "output_type": "display_data"
    },
    {
     "data": {
      "application/vnd.jupyter.widget-view+json": {
       "model_id": "805ab4f1e12e42f68fdc2b1362a00fa7",
       "version_major": 2,
       "version_minor": 0
      },
      "text/plain": [
       "VBox(children=(HBox(), EncodingWidget(children=(VBox(children=(HTML(value='Encoding:'), Dropdown(description='…"
      ]
     },
     "metadata": {},
     "output_type": "display_data"
    },
    {
     "data": {
      "application/vnd.jupyter.widget-view+json": {
       "model_id": "e7014d20f52a401cb44f725c64b98767",
       "version_major": 2,
       "version_minor": 0
      },
      "text/plain": [
       "Output()"
      ]
     },
     "metadata": {},
     "output_type": "display_data"
    }
   ],
   "source": [
    "%%sql\n",
    "create table glue_catalog1.salesdb.orders\n",
    "( \n",
    "    order_id int,\n",
    "    product_name string,\n",
    "    product_category string,\n",
    "    qty int,\n",
    "    unit_price decimal(7,2),\n",
    "    order_datetime timestamp\n",
    ")\n",
    "using iceberg\n",
    "partitioned by (days(order_datetime));"
   ]
  },
  {
   "cell_type": "code",
   "execution_count": 18,
   "id": "1500992a-9ad2-416f-8639-5b11ac5150d0",
   "metadata": {
    "execution": {
     "iopub.execute_input": "2022-11-05T11:12:07.583341Z",
     "iopub.status.busy": "2022-11-05T11:12:07.583145Z",
     "iopub.status.idle": "2022-11-05T11:12:16.910283Z",
     "shell.execute_reply": "2022-11-05T11:12:16.909874Z",
     "shell.execute_reply.started": "2022-11-05T11:12:07.583319Z"
    }
   },
   "outputs": [
    {
     "data": {
      "application/vnd.jupyter.widget-view+json": {
       "model_id": "",
       "version_major": 2,
       "version_minor": 0
      },
      "text/plain": [
       "FloatProgress(value=0.0, bar_style='info', description='Progress:', layout=Layout(height='25px', width='50%'),…"
      ]
     },
     "metadata": {},
     "output_type": "display_data"
    },
    {
     "data": {
      "application/vnd.jupyter.widget-view+json": {
       "model_id": "9bbd2e34e6204c26b777a1e64749f986",
       "version_major": 2,
       "version_minor": 0
      },
      "text/plain": [
       "VBox(children=(HBox(), EncodingWidget(children=(VBox(children=(HTML(value='Encoding:'), Dropdown(description='…"
      ]
     },
     "metadata": {},
     "output_type": "display_data"
    },
    {
     "data": {
      "application/vnd.jupyter.widget-view+json": {
       "model_id": "c4cb47cc3f554669856a95ad88378565",
       "version_major": 2,
       "version_minor": 0
      },
      "text/plain": [
       "Output()"
      ]
     },
     "metadata": {},
     "output_type": "display_data"
    }
   ],
   "source": [
    "%%sql\n",
    "insert into glue_catalog1.salesdb.orders VALUES \n",
    "(\n",
    "    1, \n",
    "    'Harry Potter and the Prisoner of Azkaban',\n",
    "    'Books',\n",
    "    2,\n",
    "    7.99,\n",
    "    current_timestamp()\n",
    ")"
   ]
  },
  {
   "cell_type": "code",
   "execution_count": 19,
   "id": "06cc7781-1293-4a8e-9211-5c23ae4faacc",
   "metadata": {
    "execution": {
     "iopub.execute_input": "2022-11-05T11:12:37.230932Z",
     "iopub.status.busy": "2022-11-05T11:12:37.230732Z",
     "iopub.status.idle": "2022-11-05T11:12:42.714340Z",
     "shell.execute_reply": "2022-11-05T11:12:42.713914Z",
     "shell.execute_reply.started": "2022-11-05T11:12:37.230910Z"
    }
   },
   "outputs": [
    {
     "data": {
      "application/vnd.jupyter.widget-view+json": {
       "model_id": "",
       "version_major": 2,
       "version_minor": 0
      },
      "text/plain": [
       "FloatProgress(value=0.0, bar_style='info', description='Progress:', layout=Layout(height='25px', width='50%'),…"
      ]
     },
     "metadata": {},
     "output_type": "display_data"
    },
    {
     "data": {
      "application/vnd.jupyter.widget-view+json": {
       "model_id": "57e0ee1a25db4307be97971d4a1336e1",
       "version_major": 2,
       "version_minor": 0
      },
      "text/plain": [
       "VBox(children=(HBox(children=(HTML(value='Type:'), Button(description='Table', layout=Layout(width='70px'), st…"
      ]
     },
     "metadata": {},
     "output_type": "display_data"
    },
    {
     "data": {
      "application/vnd.jupyter.widget-view+json": {
       "model_id": "6c5c93c345eb440ab858485794136375",
       "version_major": 2,
       "version_minor": 0
      },
      "text/plain": [
       "Output()"
      ]
     },
     "metadata": {},
     "output_type": "display_data"
    }
   ],
   "source": [
    "%%sql\n",
    "select * from glue_catalog1.salesdb.orders"
   ]
  },
  {
   "cell_type": "code",
   "execution_count": 21,
   "id": "53bfc0be-118f-4a80-abf2-35b08073f43d",
   "metadata": {
    "execution": {
     "iopub.execute_input": "2022-11-05T11:19:13.994190Z",
     "iopub.status.busy": "2022-11-05T11:19:13.994046Z",
     "iopub.status.idle": "2022-11-05T11:19:14.859387Z",
     "shell.execute_reply": "2022-11-05T11:19:14.858978Z",
     "shell.execute_reply.started": "2022-11-05T11:19:13.994171Z"
    },
    "tags": []
   },
   "outputs": [
    {
     "data": {
      "application/vnd.jupyter.widget-view+json": {
       "model_id": "",
       "version_major": 2,
       "version_minor": 0
      },
      "text/plain": [
       "FloatProgress(value=0.0, bar_style='info', description='Progress:', layout=Layout(height='25px', width='50%'),…"
      ]
     },
     "metadata": {},
     "output_type": "display_data"
    },
    {
     "data": {
      "application/vnd.jupyter.widget-view+json": {
       "model_id": "6c6d4bb087484e4888940affc3523eca",
       "version_major": 2,
       "version_minor": 0
      },
      "text/plain": [
       "VBox(children=(HBox(children=(HTML(value='Type:'), Button(description='Table', layout=Layout(width='70px'), st…"
      ]
     },
     "metadata": {},
     "output_type": "display_data"
    },
    {
     "data": {
      "application/vnd.jupyter.widget-view+json": {
       "model_id": "45f3a16f099145b987456df0ecbd1f66",
       "version_major": 2,
       "version_minor": 0
      },
      "text/plain": [
       "Output()"
      ]
     },
     "metadata": {},
     "output_type": "display_data"
    }
   ],
   "source": [
    "%%sql\n",
    "select * from glue_catalog1.salesdb.orders.snapshots"
   ]
  },
  {
   "cell_type": "code",
   "execution_count": null,
   "id": "fc605752-d4ed-408d-b416-121ccb49b067",
   "metadata": {},
   "outputs": [],
   "source": []
  }
 ],
 "metadata": {
  "kernelspec": {
   "display_name": "PySpark",
   "language": "",
   "name": "pysparkkernel"
  },
  "language_info": {
   "codemirror_mode": {
    "name": "python",
    "version": 3
   },
   "mimetype": "text/x-python",
   "name": "pyspark",
   "pygments_lexer": "python3"
  }
 },
 "nbformat": 4,
 "nbformat_minor": 5
}
